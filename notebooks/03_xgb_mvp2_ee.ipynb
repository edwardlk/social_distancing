{
 "cells": [
  {
   "cell_type": "markdown",
   "metadata": {},
   "source": [
    "## Fit & Validate A Gradient Boosted Classifier and Generate Related Visualizations"
   ]
  },
  {
   "cell_type": "code",
   "execution_count": 12,
   "metadata": {},
   "outputs": [],
   "source": [
    "import pandas as pd\n",
    "import numpy as np\n",
    "import xgboost as xgb\n",
    "from sklearn.model_selection import train_test_split\n",
    "from sklearn.metrics import accuracy_score, precision_score, recall_score, roc_auc_score, auc, roc_curve"
   ]
  },
  {
   "cell_type": "code",
   "execution_count": 13,
   "metadata": {},
   "outputs": [],
   "source": [
    "df = pd.read_csv(\"../data/df_mvp.csv\")"
   ]
  },
  {
   "cell_type": "code",
   "execution_count": 14,
   "metadata": {},
   "outputs": [],
   "source": [
    "# Split the response variable from the predictors\n",
    "X = df.drop(['label','time_bin','source'],axis=1)\n",
    "y = df.label\n",
    "\n",
    "# Split the training from the test data\n",
    "X_train, X_test, y_train, y_test = train_test_split(X, y, test_size=0.2, random_state=42)\n",
    "\n",
    "# Within the training data, define validation sets:\n",
    "X_val_train, X_val, y_val_train, y_val = train_test_split(X_train, y_train, test_size=0.2, random_state=42)"
   ]
  },
  {
   "cell_type": "code",
   "execution_count": 20,
   "metadata": {},
   "outputs": [],
   "source": [
    "# Initialize our classifier\n",
    "xgb_model = xgb.XGBClassifier()\n",
    "\n",
    "# brute force scan for all parameters, credits to \n",
    "# https://www.kaggle.com/phunter/xgboost-with-gridsearchcv\n",
    "# Details: \n",
    "# usually max_depth is 6,7,8\n",
    "# learning rate is around 0.05, but small changes may make a big difference\n",
    "# tuning min_child_weight, subsample, and colsample_bytree can have \n",
    "# much importance in avoiding overfitting\n",
    "# n_estimators is how many rounds of boosting\n",
    "# finally, ensemble xgboost with multiple seeds may reduce variance. \n",
    "\n",
    "param_grid={'colsample_bytree': [0.6, 0.7, 0.8], 'learning_rate': [0.046, 0.048, 0.05, 0.052, 0.054],\n",
    "                         'max_depth': [4, 5, 6, 7, 8], 'min_child_weight': [10, 11, 12],\n",
    "                         'missing': [-999], 'n_estimators': [1000],\n",
    "                         'nthread': [4], 'objective': ['binary:logistic'],\n",
    "                         'seed': [1337], 'silent': [1], 'subsample': [0.6, 0.8]}"
   ]
  },
  {
   "cell_type": "code",
   "execution_count": 21,
   "metadata": {},
   "outputs": [
    {
     "name": "stdout",
     "output_type": "stream",
     "text": [
      "Fitting 5 folds for each of 1 candidates, totalling 5 fits\n"
     ]
    },
    {
     "name": "stderr",
     "output_type": "stream",
     "text": [
      "[Parallel(n_jobs=5)]: Using backend LokyBackend with 5 concurrent workers.\n",
      "[Parallel(n_jobs=5)]: Done   2 out of   5 | elapsed:    3.4s remaining:    5.1s\n",
      "[Parallel(n_jobs=5)]: Done   5 out of   5 | elapsed:    4.8s remaining:    0.0s\n",
      "[Parallel(n_jobs=5)]: Done   5 out of   5 | elapsed:    4.8s finished\n"
     ]
    },
    {
     "data": {
      "text/plain": [
       "GridSearchCV(cv=StratifiedKFold(n_splits=5, random_state=42, shuffle=True),\n",
       "             error_score='raise-deprecating',\n",
       "             estimator=XGBClassifier(base_score=None, booster=None,\n",
       "                                     colsample_bylevel=None,\n",
       "                                     colsample_bynode=None,\n",
       "                                     colsample_bytree=None, gamma=None,\n",
       "                                     gpu_id=None, importance_type='gain',\n",
       "                                     interaction_constraints=None,\n",
       "                                     learning_rate=None, max_delta_step=None,\n",
       "                                     max_depth=N...\n",
       "                                     verbosity=None),\n",
       "             iid='warn', n_jobs=5,\n",
       "             param_grid={'colsample_bytree': [0.7], 'learning_rate': [0.05],\n",
       "                         'max_depth': [6], 'min_child_weight': [11],\n",
       "                         'missing': [-999], 'n_estimators': [1000],\n",
       "                         'nthread': [4], 'objective': ['binary:logistic'],\n",
       "                         'seed': [1337], 'silent': [1], 'subsample': [0.8]},\n",
       "             pre_dispatch='2*n_jobs', refit=True, return_train_score=False,\n",
       "             scoring='roc_auc', verbose=2)"
      ]
     },
     "execution_count": 21,
     "metadata": {},
     "output_type": "execute_result"
    }
   ],
   "source": [
    "from sklearn.model_selection import GridSearchCV, StratifiedKFold\n",
    "\n",
    "# Initialize and train our classifier\n",
    "\n",
    "# Fit our classifier\n",
    "clf = GridSearchCV(xgb_model, parameters, n_jobs=5, \n",
    "                   cv=StratifiedKFold(n_splits=5, shuffle=True, random_state=42), \n",
    "                   scoring='roc_auc',\n",
    "                   verbose=2, refit=True)\n",
    "\n",
    "clf.fit(X_train, y_train, \n",
    "        eval_set=[(X_val_train, y_val_train), (X_val, y_val)],\n",
    "        eval_metric='logloss',\n",
    "        verbose = False)"
   ]
  },
  {
   "cell_type": "code",
   "execution_count": 22,
   "metadata": {},
   "outputs": [
    {
     "data": {
      "text/plain": [
       "{'colsample_bytree': 0.7,\n",
       " 'learning_rate': 0.05,\n",
       " 'max_depth': 6,\n",
       " 'min_child_weight': 11,\n",
       " 'missing': -999,\n",
       " 'n_estimators': 1000,\n",
       " 'nthread': 4,\n",
       " 'objective': 'binary:logistic',\n",
       " 'seed': 1337,\n",
       " 'silent': 1,\n",
       " 'subsample': 0.8}"
      ]
     },
     "execution_count": 22,
     "metadata": {},
     "output_type": "execute_result"
    }
   ],
   "source": [
    "clf.best_params_"
   ]
  },
  {
   "cell_type": "code",
   "execution_count": 23,
   "metadata": {},
   "outputs": [],
   "source": [
    "# make prediction\n",
    "y_score = clf.predict(X_test)\n",
    "y_pred_proba = clf.predict_proba(X_test)[:,-1]\n",
    "\n",
    "accuracy = accuracy_score(y_test, y_score)\n",
    "precision = precision_score(y_test, y_score)\n",
    "recall = recall_score(y_test, y_score)\n",
    "false_pos, true_pos, _ = roc_curve(y_test, y_pred_proba, pos_label=1.0)\n",
    "area_under_curve = auc(false_pos,true_pos)\n",
    "\n",
    "f = open(\"../src/d05_reporting/modeling_metrics_xgb\", 'w')\n",
    "f.write(\"accuracy: \"+str(np.round(accuracy,3))+\"\\n\")\n",
    "f.write(\"precision: \"+str(np.round(precision,3))+\"\\n\")\n",
    "f.write(\"recall: \"+str(np.round(recall,3))+\"\\n\")\n",
    "f.write(\"ROC AUC: \"+str(np.round(area_under_curve,3)))\n",
    "f.close()"
   ]
  },
  {
   "cell_type": "code",
   "execution_count": 24,
   "metadata": {
    "scrolled": true
   },
   "outputs": [],
   "source": [
    "# Plot ROC curve\n",
    "import matplotlib.pyplot as plt\n",
    "plt.style.use(\"ggplot\")\n",
    "\n",
    "plt.plot(false_pos, true_pos, color='darkorange',\n",
    "label='ROC curve (area = %0.2f)' % area_under_curve)\n",
    "plt.plot([0, 1], [0, 1], color='navy', linestyle='--')\n",
    "plt.xlim([0.0, 1.0])\n",
    "plt.ylim([0.0, 1.05])\n",
    "plt.xlabel('False Positive Rate')\n",
    "plt.ylabel('True Positive Rate')\n",
    "plt.title('ROC Curve for Gradient Boosted Classifier')\n",
    "plt.legend(loc=\"lower right\")\n",
    "plt.tight_layout()\n",
    "plt.savefig(\"../src/d06_visuals/modeling_xgb_ROC.png\")\n",
    "#plt.show()"
   ]
  },
  {
   "cell_type": "code",
   "execution_count": 26,
   "metadata": {
    "scrolled": true
   },
   "outputs": [
    {
     "data": {
      "image/png": "[encoded data removed]",
      "text/plain": [
       "<Figure size 432x288 with 1 Axes>"
      ]
     },
     "metadata": {
      "needs_background": "light"
     },
     "output_type": "display_data"
    }
   ],
   "source": [
    "# Plot feature importance\n",
    "from xgboost import plot_importance\n",
    "plot_importance(clf.best_estimator_,height=0.8, color = 'red')\n",
    "plt.title(\"Feature Importances: Gradient Boosted Classifier\")\n",
    "plt.savefig(\"../src/d06_visuals/modeling_xgb_feature_importances.png\", bbox_inches = 'tight')\n",
    "#plt.show()"
   ]
  }
 ],
 "metadata": {
  "kernelspec": {
   "display_name": "Python 3",
   "language": "python",
   "name": "python3"
  },
  "language_info": {
   "codemirror_mode": {
    "name": "ipython",
    "version": 3
   },
   "file_extension": ".py",
   "mimetype": "text/x-python",
   "name": "python",
   "nbconvert_exporter": "python",
   "pygments_lexer": "ipython3",
   "version": "3.7.4"
  }
 },
 "nbformat": 4,
 "nbformat_minor": 2
}
