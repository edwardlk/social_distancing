{
 "cells": [
  {
   "cell_type": "markdown",
   "metadata": {},
   "source": [
    "## Fit & Validate A Gradient Boosted Classifier and Generate Related Visualizations"
   ]
  },
  {
   "cell_type": "code",
   "execution_count": 1,
   "metadata": {},
   "outputs": [
    {
     "name": "stderr",
     "output_type": "stream",
     "text": [
      "/home/eric/anaconda3/lib/python3.7/site-packages/dask/dataframe/utils.py:14: FutureWarning: pandas.util.testing is deprecated. Use the functions in the public API at pandas.testing instead.\n",
      "  import pandas.util.testing as tm\n"
     ]
    }
   ],
   "source": [
    "import pandas as pd\n",
    "import numpy as np\n",
    "import xgboost as xgb\n",
    "from sklearn.model_selection import train_test_split\n",
    "from sklearn.metrics import accuracy_score, precision_score, recall_score, roc_auc_score, auc, roc_curve"
   ]
  },
  {
   "cell_type": "code",
   "execution_count": 2,
   "metadata": {},
   "outputs": [],
   "source": [
    "df = pd.read_csv(\"../data/df_mvp.csv\")"
   ]
  },
  {
   "cell_type": "code",
   "execution_count": 3,
   "metadata": {},
   "outputs": [],
   "source": [
    "# Split the response variable from the predictors\n",
    "X = df.drop(['label','time_bin','source'],axis=1)\n",
    "y = df.label\n",
    "\n",
    "# Split the training from the test data\n",
    "X_train, X_test, y_train, y_test = train_test_split(X, y, test_size=0.2, random_state=42)\n",
    "\n",
    "# Within the training data, define validation sets:\n",
    "X_val_train, X_val, y_val_train, y_val = train_test_split(X_train, y_train, test_size=0.2, random_state=42) \n",
    "\n",
    "# Put the training data in a format more suited to XGBoost\n",
    "# dtrain = xgb.DMatrix(X_train, label=y_train)\n",
    "# dtest = xgb.DMatrix(X_test, label=y_test)"
   ]
  },
  {
   "cell_type": "code",
   "execution_count": 4,
   "metadata": {},
   "outputs": [
    {
     "data": {
      "text/plain": [
       "XGBClassifier(base_score=0.5, booster=None, colsample_bylevel=1,\n",
       "              colsample_bynode=1, colsample_bytree=1, eta=1, eval_metric='auc',\n",
       "              gamma=0, gpu_id=-1, importance_type='gain',\n",
       "              interaction_constraints=None, learning_rate=1, max_delta_step=0,\n",
       "              max_depth=2, min_child_weight=1, missing=nan,\n",
       "              monotone_constraints=None, n_estimators=100, n_jobs=4, nthread=4,\n",
       "              num_parallel_tree=1, num_round=100, objective='binary:logistic',\n",
       "              random_state=0, reg_alpha=0, reg_lambda=1, scale_pos_weight=1,\n",
       "              subsample=1, tree_method=None, validate_parameters=False, ...)"
      ]
     },
     "execution_count": 4,
     "metadata": {},
     "output_type": "execute_result"
    }
   ],
   "source": [
    "# Initialize and train our classifier\n",
    "# specify parameters via dict\n",
    "params = {'max_depth':2, \n",
    "         'eta':1, \n",
    "         'objective':'binary:logistic',\n",
    "         'nthread':4,\n",
    "         'eval_metric':'auc',\n",
    "         'num_round':100}\n",
    "\n",
    "# Fit our classifier\n",
    "clf = xgb.XGBClassifier(**params)\n",
    "\n",
    "clf.fit(X_train, y_train, \n",
    "        eval_set=[(X_val_train, y_val_train), (X_val, y_val)],\n",
    "        eval_metric='logloss',\n",
    "        verbose = False)"
   ]
  },
  {
   "cell_type": "code",
   "execution_count": 5,
   "metadata": {},
   "outputs": [],
   "source": [
    "# make prediction\n",
    "y_score = clf.predict(X_test)\n",
    "y_pred_proba = clf.predict_proba(X_test)[:,-1]\n",
    "\n",
    "accuracy = accuracy_score(y_test, y_score)\n",
    "precision = precision_score(y_test, y_score)\n",
    "recall = recall_score(y_test, y_score)\n",
    "false_pos, true_pos, _ = roc_curve(y_test, y_pred_proba, pos_label=1.0)\n",
    "area_under_curve = auc(false_pos,true_pos)\n",
    "\n",
    "f = open(\"../src/d05_reporting/validation_metrics_xgb\", 'w')\n",
    "f.write(\"accuracy: \"+str(np.round(accuracy,3))+\"\\n\")\n",
    "f.write(\"precision: \"+str(np.round(precision,3))+\"\\n\")\n",
    "f.write(\"recall: \"+str(np.round(recall,3))+\"\\n\")\n",
    "f.write(\"ROC AUC: \"+str(np.round(area_under_curve,3)))\n",
    "f.close()"
   ]
  },
  {
   "cell_type": "code",
   "execution_count": 6,
   "metadata": {},
   "outputs": [],
   "source": [
    "# Plot ROC curve\n",
    "import matplotlib.pyplot as plt\n",
    "plt.style.use(\"ggplot\")\n",
    "\n",
    "plt.plot(false_pos, true_pos, color='darkorange',\n",
    "label='ROC curve (area = %0.2f)' % area_under_curve)\n",
    "plt.plot([0, 1], [0, 1], color='navy', linestyle='--')\n",
    "plt.xlim([0.0, 1.0])\n",
    "plt.ylim([0.0, 1.05])\n",
    "plt.xlabel('False Positive Rate')\n",
    "plt.ylabel('True Positive Rate')\n",
    "plt.title('ROC Curve for Gradient Boosted Classifier')\n",
    "plt.legend(loc=\"lower right\")\n",
    "plt.tight_layout()\n",
    "plt.savefig(\"../src/d06_visuals/validation_xgb_ROC.png\")\n",
    "#plt.show()"
   ]
  }
 ],
 "metadata": {
  "kernelspec": {
   "display_name": "Python 3",
   "language": "python",
   "name": "python3"
  },
  "language_info": {
   "codemirror_mode": {
    "name": "ipython",
    "version": 3
   },
   "file_extension": ".py",
   "mimetype": "text/x-python",
   "name": "python",
   "nbconvert_exporter": "python",
   "pygments_lexer": "ipython3",
   "version": "3.7.4"
  }
 },
 "nbformat": 4,
 "nbformat_minor": 2
}
