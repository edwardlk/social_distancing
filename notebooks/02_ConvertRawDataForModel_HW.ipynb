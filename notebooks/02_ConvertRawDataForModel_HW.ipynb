{
 "cells": [
  {
   "cell_type": "markdown",
   "metadata": {},
   "source": [
    "**The features used for the model**:  current_popularity, wind_speed,temp, status_good, status_maybe, status_bad, dayofweek, hour. \n",
    "\n",
    "**steps**:\n",
    "1. Load the latest populartimes data & weather data into a data frame.\n",
    "2. Convert time from unix structure to datetime & bin the time into a time_bin (can't directly use the time information as this sometimes affect the 'hour' feature)\n",
    "3. Create the \"status_good, status_maybe, status_bad\" features\n",
    "4. Add the time features\n",
    "5. Select the relevant features"
   ]
  },
  {
   "cell_type": "code",
   "execution_count": null,
   "metadata": {},
   "outputs": [],
   "source": [
    "## Step1: Load the latest data into a data frame. \n",
    "# Note that the code below works on populartimes data that Huayi has scrapped, \n",
    "# and need to be editted to reflect how Ed is scraping the weather & the populartimes data. \n",
    "\n",
    "import boto3\n",
    "import pandas as pd\n",
    "from datetime import datetime, timedelta\n",
    "from io import StringIO\n",
    "import numpy as np\n",
    " \n",
    "\n",
    "client = boto3.client('s3')\n",
    "bucket = 'd01_data'# the bucket containing the raw data.\n",
    "\n",
    "# read in the weather data\n",
    "df = pd.DataFrame()\n",
    "weather_data = client.get_object(Bucket =bucket, Key='current_weather.csv')['Body']\n",
    "weather_string = weather_data.read().decode('utf-8')\n",
    "df = pd.read_csv(StringIO(weather_string))\n",
    "\n",
    "# add \"current_popularity\"\n",
    "popularity_data = client.get_object(bucket, Key='current_weather.csv')['Body']\n",
    "popularity_string = popularity_data.read().decode('utf-8')\n",
    "df['current_popularity'] = pd.read_csv(StringIO(popularity_string))['current_pop']"
   ]
  },
  {
   "cell_type": "code",
   "execution_count": 26,
   "metadata": {},
   "outputs": [],
   "source": [
    "## Step2: Convert time from UTC to EST & bin the time into a time_bin \n",
    "\n",
    "def binMinute(minute):\n",
    "    '''\n",
    "    Calculate which of the 15min bins the current minute falls in.\n",
    "    The bins are 05, 20, 35, 50. \n",
    "    Current minutes less than 05 belongs to bin 50 of the hour before. \n",
    "    '''    \n",
    "    m2q= (minute-5)/15\n",
    "    if m2q < 0:\n",
    "        newminute = -10 \n",
    "    elif m2q < 1:\n",
    "        newminute = 5\n",
    "    elif m2q < 2:\n",
    "        newminute = 20\n",
    "    elif m2q < 3:\n",
    "        newminute = 35\n",
    "    elif m2q < 4:\n",
    "        newminute = 50\n",
    "    return(newminute)      \n",
    "\n",
    "## convert unix time to datetime\n",
    "df['datetime'] = datetime.fromtimestamp(df.reception_time)\n",
    "# bin the time\n",
    "df['time_bin'] = df['datetime'].apply(lambda x: x.replace(minute = 0, second = 0) + timedelta(minutes=binMinute(x.minute)))"
   ]
  },
  {
   "cell_type": "code",
   "execution_count": 30,
   "metadata": {},
   "outputs": [],
   "source": [
    "## Step3: good, maybe, bad\n",
    "good = ['clear sky','few clouds']\n",
    "maybe = ['scattered clouds','mist','light rain','broken clouds']\n",
    "bad = ['heavy intensity rain','moderate rain','overcast clouds','thunderstorm with rain','thunderstorm with light rain']\n",
    "df['status_good'] = np.zeros(1)\n",
    "df['status_maybe'] = np.zeros(1)\n",
    "df['status_bad'] = np.zeros(1)\n",
    "df.loc[df.detailed_status.isin(good),'status_good'] =1\n",
    "df.loc[df.detailed_status.isin(maybe),'status_maybe'] =1\n",
    "df.loc[df.detailed_status.isin(bad),'status_bad'] =1"
   ]
  },
  {
   "cell_type": "code",
   "execution_count": 31,
   "metadata": {},
   "outputs": [],
   "source": [
    "# Step4: add time features\n",
    "df['dayofweek'] = df.time_bin.dt.dayofweek\n",
    "df['hour'] = df.time_bin.dt.hour"
   ]
  },
  {
   "cell_type": "code",
   "execution_count": 32,
   "metadata": {},
   "outputs": [],
   "source": [
    "# Step5: select final features. Note: the order is important.\n",
    "model_input = df[['current_popularity', 'wind_speed', 'temp', 'status_good', \n",
    "                    'status_maybe', 'status_bad', 'dayofweek', 'hour']].values"
   ]
  }
 ],
 "metadata": {
  "kernelspec": {
   "display_name": "Python 3",
   "language": "python",
   "name": "python3"
  },
  "language_info": {
   "codemirror_mode": {
    "name": "ipython",
    "version": 3
   },
   "file_extension": ".py",
   "mimetype": "text/x-python",
   "name": "python",
   "nbconvert_exporter": "python",
   "pygments_lexer": "ipython3",
   "version": "3.7.4"
  }
 },
 "nbformat": 4,
 "nbformat_minor": 4
}
