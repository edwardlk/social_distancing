{
 "cells": [
  {
   "cell_type": "markdown",
   "metadata": {},
   "source": [
    "**The features used for the model**:  current_popularity, wind_speed,temp, status_good, status_maybe, status_bad, dayofweek, hour. \n",
    "\n",
    "**steps**:\n",
    "1. Load the latest populartimes data & weather data into a data frame.\n",
    "2. Convert time from UTC to EST & bin the time into a time_bin (can't directly use the time information as this sometimes affect the 'hour' feature)\n",
    "3. Create the \"status_good, status_maybe, status_bad\" features\n",
    "4. Add the time features\n",
    "5. Select the relevant features"
   ]
  },
  {
   "cell_type": "code",
   "execution_count": null,
   "metadata": {},
   "outputs": [],
   "source": [
    "## Step1: Load the latest data into a data frame. \n",
    "# Note that the code below works on populartimes data that Huayi has scrapped, \n",
    "# and need to be editted to reflect how Ed is scraping the weather & the populartimes data. \n",
    "\n",
    "import boto3\n",
    "import pandas as pd\n",
    "from datetime import datetime, timedelta\n",
    "import json\n",
    "from io import StringIO\n",
    "import numpy as np\n",
    "\n",
    "def binMinute(minute):\n",
    "    '''\n",
    "    Calculate which of the 15min bins the current minute falls in.\n",
    "    The bins are 05, 20, 35, 50. \n",
    "    Current minutes less than 05 belongs to bin 50 of the hour before. \n",
    "    '''    \n",
    "    m2q= (minute-5)/15\n",
    "    if m2q < 0:\n",
    "        newminute = -10 \n",
    "    elif m2q < 1:\n",
    "        newminute = 5\n",
    "    elif m2q < 2:\n",
    "        newminute = 20\n",
    "    elif m2q < 3:\n",
    "        newminute = 35\n",
    "    elif m2q < 4:\n",
    "        newminute = 50\n",
    "    return(newminute)       \n",
    "\n",
    "\n",
    "if __name__ == '__main__':  \n",
    "    s3 = boto3.resource('s3')\n",
    "    bucket = s3.Bucket('XXXX') # the bucket containing the raw data. \n",
    "    idx = 0\n",
    "    for item in bucket.objects.filter(Prefix = \"Data/\"): # Predix is the path to the file.\n",
    "        content = item.get()['Body'].read().decode('utf-8')\n",
    "        if len(content):\n",
    "            json_content = json.loads(content)['current_popularity']\n",
    "            ### + a line to load the weather data\n",
    "            timestamp = datetime.strptime(item.key[5:-5], '%m%d%Y_%H%M')\n",
    "            data = pd.DataFrame({'current_popularity': json_content, 'datetime': timestamp}, index = [idx])\n",
    "            idx +=1"
   ]
  },
  {
   "cell_type": "code",
   "execution_count": null,
   "metadata": {},
   "outputs": [],
   "source": [
    "## Step2: Convert time from UTC to EST & bin the time into a time_bin \n",
    "\n",
    "# change time zone\n",
    "data['datetime'] = data['datetime'].dt.tz_localize('UTC').dt.tz_convert('US/Eastern').dt.tz_localize(None)\n",
    "# bin the time\n",
    "data['time_bin'] = data['datetime'].apply(lambda x: x.replace(minute = 0) + timedelta(minutes=binMinute(x.minute)))"
   ]
  },
  {
   "cell_type": "code",
   "execution_count": null,
   "metadata": {},
   "outputs": [],
   "source": [
    "## Step3: good, maybe, bad\n",
    "good = ['clear sky','few clouds']\n",
    "maybe = ['scattered clouds','mist','light rain','broken clouds']\n",
    "bad = ['heavy intensity rain','moderate rain','overcast clouds','thunderstorm with rain','thunderstorm with light rain']\n",
    "data['status_good'] = np.zeros(1)\n",
    "data['status_maybe'] = np.zeros(1)\n",
    "data['status_bad'] = np.zeros(1)\n",
    "data.loc[data.detailed_status.isin(good),'status_good'] =1\n",
    "data.loc[data.detailed_status.isin(maybe),'status_maybe'] =1\n",
    "data.loc[data.detailed_status.isin(bad),'status_bad'] =1"
   ]
  },
  {
   "cell_type": "code",
   "execution_count": null,
   "metadata": {},
   "outputs": [],
   "source": [
    "# Step4: add time features\n",
    "data['dayofweek'] = data.time_bin.dt.dayofweek\n",
    "data['hour'] = data.time_bin.dt.hour"
   ]
  },
  {
   "cell_type": "code",
   "execution_count": null,
   "metadata": {},
   "outputs": [],
   "source": [
    "# Step5: select final features. Note: the order is important.\n",
    "model_input = data[['current_popularity', 'wind_speed', 'temp', 'status_good', \n",
    "                    'status_maybe', 'status_bad', 'dayofweek', 'hour']].values"
   ]
  }
 ],
 "metadata": {
  "kernelspec": {
   "display_name": "Python 3",
   "language": "python",
   "name": "python3"
  },
  "language_info": {
   "codemirror_mode": {
    "name": "ipython",
    "version": 3
   },
   "file_extension": ".py",
   "mimetype": "text/x-python",
   "name": "python",
   "nbconvert_exporter": "python",
   "pygments_lexer": "ipython3",
   "version": "3.7.4"
  }
 },
 "nbformat": 4,
 "nbformat_minor": 4
}
