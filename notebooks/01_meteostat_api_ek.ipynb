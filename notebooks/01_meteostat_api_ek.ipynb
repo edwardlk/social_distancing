{
 "cells": [
  {
   "cell_type": "markdown",
   "metadata": {},
   "source": [
    "# Historical data\n",
    "\n",
    "Gathering weather data for time prior to collection from Open Weather Map. \n",
    "\n",
    "Data provided by <a href=\"https://www.meteostat.net\" title=\"meteostat\" target=\"_blank\">meteostat</a>. Meteorological data: Copyright &copy; National Oceanic and Atmospheric Administration (NOAA), Deutscher Wetterdienst (DWD). Learn more about the <a href=\"https://www.meteostat.net/sources\" title=\"meteostat Sources\" target=\"_blank\">sources</a>."
   ]
  },
  {
   "cell_type": "code",
   "execution_count": 1,
   "metadata": {},
   "outputs": [],
   "source": [
    "import os\n",
    "import sys\n",
    "import pandas as pd\n",
    "import numpy as np\n",
    "import json\n",
    "import requests\n",
    "from datetime import datetime, timedelta\n",
    "import matplotlib.pyplot as plt"
   ]
  },
  {
   "cell_type": "code",
   "execution_count": 2,
   "metadata": {},
   "outputs": [],
   "source": [
    "root_dir = os.path.join(os.getcwd(), '..')\n",
    "src_dir = os.path.join(os.getcwd(), '..', 'src')\n",
    "sys.path.append(root_dir)\n",
    "sys.path.append(src_dir)\n",
    "\n",
    "from conf.auth import ms_api_key\n",
    "from d00_utils.binning import BinTime"
   ]
  },
  {
   "cell_type": "code",
   "execution_count": 3,
   "metadata": {},
   "outputs": [],
   "source": [
    "station_ids = {\n",
    "    'JFK': '74486'\n",
    "}"
   ]
  },
  {
   "cell_type": "code",
   "execution_count": 4,
   "metadata": {},
   "outputs": [],
   "source": [
    "api_url = '''https://api.meteostat.net/v1/history/hourly?station={}&start=2020-01-01&end=2020-04-13&key={}'''.format(station_ids['JFK'], ms_api_key)"
   ]
  },
  {
   "cell_type": "code",
   "execution_count": 5,
   "metadata": {},
   "outputs": [],
   "source": [
    "r = requests.get(api_url)"
   ]
  },
  {
   "cell_type": "code",
   "execution_count": 6,
   "metadata": {},
   "outputs": [],
   "source": [
    "d = json.loads(r.text)\n",
    "\n",
    "temp_hist = pd.DataFrame(d['data'])\n",
    "temp_hist = temp_hist.drop(columns=['dewpoint', 'precipitation_3', 'precipitation_6', 'snowdepth', 'peakgust', 'condition'])"
   ]
  },
  {
   "cell_type": "code",
   "execution_count": 7,
   "metadata": {},
   "outputs": [],
   "source": [
    "# rename columns to follow convention\n",
    "temp_hist = temp_hist.rename(\n",
    "    columns={'temperature': 'temp',\n",
    "             'precipitation': 'rain_1h',\n",
    "             'windspeed': 'wind_speed',\n",
    "             'winddirection': 'wind_deg',\n",
    "             'pressure': 'press'})"
   ]
  },
  {
   "cell_type": "code",
   "execution_count": 8,
   "metadata": {},
   "outputs": [],
   "source": [
    "# convert to F, in.\n",
    "temp_hist['temp'] = (temp_hist['temp'] * 1.8) + 32\n",
    "temp_hist['rain_1h'] = temp_hist['rain_1h'] / 25.4\n",
    "temp_hist['time'] =  pd.to_datetime(temp_hist['time'])"
   ]
  },
  {
   "cell_type": "code",
   "execution_count": 9,
   "metadata": {},
   "outputs": [],
   "source": [
    "temp_hist['time_bin'] = BinTime(temp_hist['time'])"
   ]
  },
  {
   "cell_type": "code",
   "execution_count": 10,
   "metadata": {},
   "outputs": [
    {
     "data": {
      "text/html": [
       "<div>\n",
       "<style scoped>\n",
       "    .dataframe tbody tr th:only-of-type {\n",
       "        vertical-align: middle;\n",
       "    }\n",
       "\n",
       "    .dataframe tbody tr th {\n",
       "        vertical-align: top;\n",
       "    }\n",
       "\n",
       "    .dataframe thead th {\n",
       "        text-align: right;\n",
       "    }\n",
       "</style>\n",
       "<table border=\"1\" class=\"dataframe\">\n",
       "  <thead>\n",
       "    <tr style=\"text-align: right;\">\n",
       "      <th></th>\n",
       "      <th>time</th>\n",
       "      <th>temp</th>\n",
       "      <th>humidity</th>\n",
       "      <th>rain_1h</th>\n",
       "      <th>wind_speed</th>\n",
       "      <th>wind_deg</th>\n",
       "      <th>press</th>\n",
       "      <th>time_bin</th>\n",
       "    </tr>\n",
       "  </thead>\n",
       "  <tbody>\n",
       "    <tr>\n",
       "      <th>0</th>\n",
       "      <td>2020-01-01 00:00:00</td>\n",
       "      <td>42.08</td>\n",
       "      <td>89</td>\n",
       "      <td>0.000000</td>\n",
       "      <td>13.0</td>\n",
       "      <td>220</td>\n",
       "      <td>1004.1</td>\n",
       "      <td>2019-12-31 23:50:00</td>\n",
       "    </tr>\n",
       "    <tr>\n",
       "      <th>1</th>\n",
       "      <td>2020-01-01 01:00:00</td>\n",
       "      <td>42.98</td>\n",
       "      <td>86</td>\n",
       "      <td>0.000000</td>\n",
       "      <td>16.6</td>\n",
       "      <td>210</td>\n",
       "      <td>1003.7</td>\n",
       "      <td>2020-01-01 00:50:00</td>\n",
       "    </tr>\n",
       "    <tr>\n",
       "      <th>2</th>\n",
       "      <td>2020-01-01 02:00:00</td>\n",
       "      <td>44.06</td>\n",
       "      <td>85</td>\n",
       "      <td>0.000000</td>\n",
       "      <td>27.7</td>\n",
       "      <td>250</td>\n",
       "      <td>1004.2</td>\n",
       "      <td>2020-01-01 01:50:00</td>\n",
       "    </tr>\n",
       "    <tr>\n",
       "      <th>3</th>\n",
       "      <td>2020-01-01 03:00:00</td>\n",
       "      <td>42.98</td>\n",
       "      <td>73</td>\n",
       "      <td>0.000000</td>\n",
       "      <td>24.1</td>\n",
       "      <td>270</td>\n",
       "      <td>1003.9</td>\n",
       "      <td>2020-01-01 02:50:00</td>\n",
       "    </tr>\n",
       "    <tr>\n",
       "      <th>4</th>\n",
       "      <td>2020-01-01 04:00:00</td>\n",
       "      <td>42.98</td>\n",
       "      <td>70</td>\n",
       "      <td>0.000000</td>\n",
       "      <td>27.7</td>\n",
       "      <td>270</td>\n",
       "      <td>1004.0</td>\n",
       "      <td>2020-01-01 03:50:00</td>\n",
       "    </tr>\n",
       "    <tr>\n",
       "      <th>...</th>\n",
       "      <td>...</td>\n",
       "      <td>...</td>\n",
       "      <td>...</td>\n",
       "      <td>...</td>\n",
       "      <td>...</td>\n",
       "      <td>...</td>\n",
       "      <td>...</td>\n",
       "      <td>...</td>\n",
       "    </tr>\n",
       "    <tr>\n",
       "      <th>2491</th>\n",
       "      <td>2020-04-13 19:00:00</td>\n",
       "      <td>55.94</td>\n",
       "      <td>100</td>\n",
       "      <td>0.039370</td>\n",
       "      <td>53.6</td>\n",
       "      <td>170</td>\n",
       "      <td>999.2</td>\n",
       "      <td>2020-04-13 18:50:00</td>\n",
       "    </tr>\n",
       "    <tr>\n",
       "      <th>2492</th>\n",
       "      <td>2020-04-13 20:00:00</td>\n",
       "      <td>55.04</td>\n",
       "      <td>100</td>\n",
       "      <td>0.011811</td>\n",
       "      <td>48.2</td>\n",
       "      <td>180</td>\n",
       "      <td>998.3</td>\n",
       "      <td>2020-04-13 19:50:00</td>\n",
       "    </tr>\n",
       "    <tr>\n",
       "      <th>2493</th>\n",
       "      <td>2020-04-13 21:00:00</td>\n",
       "      <td>55.94</td>\n",
       "      <td>100</td>\n",
       "      <td>0.000000</td>\n",
       "      <td>59.4</td>\n",
       "      <td>190</td>\n",
       "      <td>998.4</td>\n",
       "      <td>2020-04-13 20:50:00</td>\n",
       "    </tr>\n",
       "    <tr>\n",
       "      <th>2494</th>\n",
       "      <td>2020-04-13 22:00:00</td>\n",
       "      <td>55.94</td>\n",
       "      <td>100</td>\n",
       "      <td>0.000000</td>\n",
       "      <td>50.0</td>\n",
       "      <td>190</td>\n",
       "      <td>999.5</td>\n",
       "      <td>2020-04-13 21:50:00</td>\n",
       "    </tr>\n",
       "    <tr>\n",
       "      <th>2495</th>\n",
       "      <td>2020-04-13 23:00:00</td>\n",
       "      <td>59.00</td>\n",
       "      <td>100</td>\n",
       "      <td>0.011811</td>\n",
       "      <td>22.3</td>\n",
       "      <td>220</td>\n",
       "      <td>1001.5</td>\n",
       "      <td>2020-04-13 22:50:00</td>\n",
       "    </tr>\n",
       "  </tbody>\n",
       "</table>\n",
       "<p>2496 rows × 8 columns</p>\n",
       "</div>"
      ],
      "text/plain": [
       "                    time   temp  humidity   rain_1h  wind_speed  wind_deg  \\\n",
       "0    2020-01-01 00:00:00  42.08        89  0.000000        13.0       220   \n",
       "1    2020-01-01 01:00:00  42.98        86  0.000000        16.6       210   \n",
       "2    2020-01-01 02:00:00  44.06        85  0.000000        27.7       250   \n",
       "3    2020-01-01 03:00:00  42.98        73  0.000000        24.1       270   \n",
       "4    2020-01-01 04:00:00  42.98        70  0.000000        27.7       270   \n",
       "...                  ...    ...       ...       ...         ...       ...   \n",
       "2491 2020-04-13 19:00:00  55.94       100  0.039370        53.6       170   \n",
       "2492 2020-04-13 20:00:00  55.04       100  0.011811        48.2       180   \n",
       "2493 2020-04-13 21:00:00  55.94       100  0.000000        59.4       190   \n",
       "2494 2020-04-13 22:00:00  55.94       100  0.000000        50.0       190   \n",
       "2495 2020-04-13 23:00:00  59.00       100  0.011811        22.3       220   \n",
       "\n",
       "       press            time_bin  \n",
       "0     1004.1 2019-12-31 23:50:00  \n",
       "1     1003.7 2020-01-01 00:50:00  \n",
       "2     1004.2 2020-01-01 01:50:00  \n",
       "3     1003.9 2020-01-01 02:50:00  \n",
       "4     1004.0 2020-01-01 03:50:00  \n",
       "...      ...                 ...  \n",
       "2491   999.2 2020-04-13 18:50:00  \n",
       "2492   998.3 2020-04-13 19:50:00  \n",
       "2493   998.4 2020-04-13 20:50:00  \n",
       "2494   999.5 2020-04-13 21:50:00  \n",
       "2495  1001.5 2020-04-13 22:50:00  \n",
       "\n",
       "[2496 rows x 8 columns]"
      ]
     },
     "execution_count": 10,
     "metadata": {},
     "output_type": "execute_result"
    }
   ],
   "source": [
    "temp_hist"
   ]
  },
  {
   "cell_type": "markdown",
   "metadata": {},
   "source": [
    "## Interpolate\n",
    "Join table above with all time bins, then interpolate 'missing' data."
   ]
  },
  {
   "cell_type": "code",
   "execution_count": 11,
   "metadata": {},
   "outputs": [],
   "source": [
    "num_bins = int(1 + (max(temp_hist['time_bin']) - min(temp_hist['time_bin'])) / timedelta(minutes=15))"
   ]
  },
  {
   "cell_type": "code",
   "execution_count": 12,
   "metadata": {},
   "outputs": [],
   "source": [
    "start = min(temp_hist['time_bin'])\n",
    "end = max(temp_hist['time_bin'])\n",
    "t = np.linspace(start.value, end.value, num_bins)"
   ]
  },
  {
   "cell_type": "code",
   "execution_count": 13,
   "metadata": {},
   "outputs": [],
   "source": [
    "weather_history = pd.DataFrame({'time_bin': pd.to_datetime(t)})"
   ]
  },
  {
   "cell_type": "code",
   "execution_count": 14,
   "metadata": {},
   "outputs": [],
   "source": [
    "binned_weather_hist = weather_history.set_index('time_bin').join(temp_hist.set_index('time_bin'))"
   ]
  },
  {
   "cell_type": "code",
   "execution_count": 15,
   "metadata": {},
   "outputs": [
    {
     "data": {
      "text/html": [
       "<div>\n",
       "<style scoped>\n",
       "    .dataframe tbody tr th:only-of-type {\n",
       "        vertical-align: middle;\n",
       "    }\n",
       "\n",
       "    .dataframe tbody tr th {\n",
       "        vertical-align: top;\n",
       "    }\n",
       "\n",
       "    .dataframe thead th {\n",
       "        text-align: right;\n",
       "    }\n",
       "</style>\n",
       "<table border=\"1\" class=\"dataframe\">\n",
       "  <thead>\n",
       "    <tr style=\"text-align: right;\">\n",
       "      <th></th>\n",
       "      <th>time</th>\n",
       "      <th>temp</th>\n",
       "      <th>humidity</th>\n",
       "      <th>rain_1h</th>\n",
       "      <th>wind_speed</th>\n",
       "      <th>wind_deg</th>\n",
       "      <th>press</th>\n",
       "    </tr>\n",
       "    <tr>\n",
       "      <th>time_bin</th>\n",
       "      <th></th>\n",
       "      <th></th>\n",
       "      <th></th>\n",
       "      <th></th>\n",
       "      <th></th>\n",
       "      <th></th>\n",
       "      <th></th>\n",
       "    </tr>\n",
       "  </thead>\n",
       "  <tbody>\n",
       "    <tr>\n",
       "      <th>2019-12-31 23:50:00</th>\n",
       "      <td>2020-01-01 00:00:00</td>\n",
       "      <td>42.08</td>\n",
       "      <td>89.0</td>\n",
       "      <td>0.000000</td>\n",
       "      <td>13.0</td>\n",
       "      <td>220.0</td>\n",
       "      <td>1004.1</td>\n",
       "    </tr>\n",
       "    <tr>\n",
       "      <th>2020-01-01 00:05:00</th>\n",
       "      <td>NaT</td>\n",
       "      <td>NaN</td>\n",
       "      <td>NaN</td>\n",
       "      <td>NaN</td>\n",
       "      <td>NaN</td>\n",
       "      <td>NaN</td>\n",
       "      <td>NaN</td>\n",
       "    </tr>\n",
       "    <tr>\n",
       "      <th>2020-01-01 00:20:00</th>\n",
       "      <td>NaT</td>\n",
       "      <td>NaN</td>\n",
       "      <td>NaN</td>\n",
       "      <td>NaN</td>\n",
       "      <td>NaN</td>\n",
       "      <td>NaN</td>\n",
       "      <td>NaN</td>\n",
       "    </tr>\n",
       "    <tr>\n",
       "      <th>2020-01-01 00:35:00</th>\n",
       "      <td>NaT</td>\n",
       "      <td>NaN</td>\n",
       "      <td>NaN</td>\n",
       "      <td>NaN</td>\n",
       "      <td>NaN</td>\n",
       "      <td>NaN</td>\n",
       "      <td>NaN</td>\n",
       "    </tr>\n",
       "    <tr>\n",
       "      <th>2020-01-01 00:50:00</th>\n",
       "      <td>2020-01-01 01:00:00</td>\n",
       "      <td>42.98</td>\n",
       "      <td>86.0</td>\n",
       "      <td>0.000000</td>\n",
       "      <td>16.6</td>\n",
       "      <td>210.0</td>\n",
       "      <td>1003.7</td>\n",
       "    </tr>\n",
       "    <tr>\n",
       "      <th>...</th>\n",
       "      <td>...</td>\n",
       "      <td>...</td>\n",
       "      <td>...</td>\n",
       "      <td>...</td>\n",
       "      <td>...</td>\n",
       "      <td>...</td>\n",
       "      <td>...</td>\n",
       "    </tr>\n",
       "    <tr>\n",
       "      <th>2020-04-13 21:50:00</th>\n",
       "      <td>2020-04-13 22:00:00</td>\n",
       "      <td>55.94</td>\n",
       "      <td>100.0</td>\n",
       "      <td>0.000000</td>\n",
       "      <td>50.0</td>\n",
       "      <td>190.0</td>\n",
       "      <td>999.5</td>\n",
       "    </tr>\n",
       "    <tr>\n",
       "      <th>2020-04-13 22:05:00</th>\n",
       "      <td>NaT</td>\n",
       "      <td>NaN</td>\n",
       "      <td>NaN</td>\n",
       "      <td>NaN</td>\n",
       "      <td>NaN</td>\n",
       "      <td>NaN</td>\n",
       "      <td>NaN</td>\n",
       "    </tr>\n",
       "    <tr>\n",
       "      <th>2020-04-13 22:20:00</th>\n",
       "      <td>NaT</td>\n",
       "      <td>NaN</td>\n",
       "      <td>NaN</td>\n",
       "      <td>NaN</td>\n",
       "      <td>NaN</td>\n",
       "      <td>NaN</td>\n",
       "      <td>NaN</td>\n",
       "    </tr>\n",
       "    <tr>\n",
       "      <th>2020-04-13 22:35:00</th>\n",
       "      <td>NaT</td>\n",
       "      <td>NaN</td>\n",
       "      <td>NaN</td>\n",
       "      <td>NaN</td>\n",
       "      <td>NaN</td>\n",
       "      <td>NaN</td>\n",
       "      <td>NaN</td>\n",
       "    </tr>\n",
       "    <tr>\n",
       "      <th>2020-04-13 22:50:00</th>\n",
       "      <td>2020-04-13 23:00:00</td>\n",
       "      <td>59.00</td>\n",
       "      <td>100.0</td>\n",
       "      <td>0.011811</td>\n",
       "      <td>22.3</td>\n",
       "      <td>220.0</td>\n",
       "      <td>1001.5</td>\n",
       "    </tr>\n",
       "  </tbody>\n",
       "</table>\n",
       "<p>9981 rows × 7 columns</p>\n",
       "</div>"
      ],
      "text/plain": [
       "                                   time   temp  humidity   rain_1h  \\\n",
       "time_bin                                                             \n",
       "2019-12-31 23:50:00 2020-01-01 00:00:00  42.08      89.0  0.000000   \n",
       "2020-01-01 00:05:00                 NaT    NaN       NaN       NaN   \n",
       "2020-01-01 00:20:00                 NaT    NaN       NaN       NaN   \n",
       "2020-01-01 00:35:00                 NaT    NaN       NaN       NaN   \n",
       "2020-01-01 00:50:00 2020-01-01 01:00:00  42.98      86.0  0.000000   \n",
       "...                                 ...    ...       ...       ...   \n",
       "2020-04-13 21:50:00 2020-04-13 22:00:00  55.94     100.0  0.000000   \n",
       "2020-04-13 22:05:00                 NaT    NaN       NaN       NaN   \n",
       "2020-04-13 22:20:00                 NaT    NaN       NaN       NaN   \n",
       "2020-04-13 22:35:00                 NaT    NaN       NaN       NaN   \n",
       "2020-04-13 22:50:00 2020-04-13 23:00:00  59.00     100.0  0.011811   \n",
       "\n",
       "                     wind_speed  wind_deg   press  \n",
       "time_bin                                           \n",
       "2019-12-31 23:50:00        13.0     220.0  1004.1  \n",
       "2020-01-01 00:05:00         NaN       NaN     NaN  \n",
       "2020-01-01 00:20:00         NaN       NaN     NaN  \n",
       "2020-01-01 00:35:00         NaN       NaN     NaN  \n",
       "2020-01-01 00:50:00        16.6     210.0  1003.7  \n",
       "...                         ...       ...     ...  \n",
       "2020-04-13 21:50:00        50.0     190.0   999.5  \n",
       "2020-04-13 22:05:00         NaN       NaN     NaN  \n",
       "2020-04-13 22:20:00         NaN       NaN     NaN  \n",
       "2020-04-13 22:35:00         NaN       NaN     NaN  \n",
       "2020-04-13 22:50:00        22.3     220.0  1001.5  \n",
       "\n",
       "[9981 rows x 7 columns]"
      ]
     },
     "execution_count": 15,
     "metadata": {},
     "output_type": "execute_result"
    }
   ],
   "source": [
    "binned_weather_hist"
   ]
  },
  {
   "cell_type": "code",
   "execution_count": 16,
   "metadata": {},
   "outputs": [],
   "source": [
    "bin_int_weather_hist = binned_weather_hist.interpolate(method='polynomial', order=2, limit_direction ='forward')"
   ]
  },
  {
   "cell_type": "code",
   "execution_count": 17,
   "metadata": {},
   "outputs": [
    {
     "data": {
      "text/plain": [
       "<matplotlib.collections.PathCollection at 0x1138a19cca0>"
      ]
     },
     "execution_count": 17,
     "metadata": {},
     "output_type": "execute_result"
    },
    {
     "data": {
      "image/png": "[encoded data removed]",
      "text/plain": [
       "<Figure size 1080x216 with 1 Axes>"
      ]
     },
     "metadata": {
      "needs_background": "light"
     },
     "output_type": "display_data"
    }
   ],
   "source": [
    "plt.figure(figsize=(15,3))\n",
    "\n",
    "plt.scatter(bin_int_weather_hist.index[190:300], bin_int_weather_hist.temp[190:300])\n",
    "plt.scatter(bin_int_weather_hist.time[190:300], bin_int_weather_hist.temp[190:300])"
   ]
  },
  {
   "cell_type": "code",
   "execution_count": 18,
   "metadata": {},
   "outputs": [
    {
     "data": {
      "text/plain": [
       "<matplotlib.collections.PathCollection at 0x1138b217880>"
      ]
     },
     "execution_count": 18,
     "metadata": {},
     "output_type": "execute_result"
    },
    {
     "data": {
      "image/png": "[encoded data removed]",
      "text/plain": [
       "<Figure size 1080x216 with 1 Axes>"
      ]
     },
     "metadata": {
      "needs_background": "light"
     },
     "output_type": "display_data"
    }
   ],
   "source": [
    "plt.figure(figsize=(15,3))\n",
    "\n",
    "plt.scatter(bin_int_weather_hist.index[190:300], bin_int_weather_hist.rain_1h[190:300])\n",
    "plt.scatter(bin_int_weather_hist.time[190:300], bin_int_weather_hist.rain_1h[190:300])"
   ]
  },
  {
   "cell_type": "code",
   "execution_count": 19,
   "metadata": {},
   "outputs": [],
   "source": [
    "output_file = os.path.join(root_dir, 'data', 'binned_weather_history.csv')\n",
    "\n",
    "bin_int_weather_hist.to_csv(output_file)"
   ]
  },
  {
   "cell_type": "code",
   "execution_count": null,
   "metadata": {},
   "outputs": [],
   "source": []
  }
 ],
 "metadata": {
  "kernelspec": {
   "display_name": "Python 3",
   "language": "python",
   "name": "python3"
  },
  "language_info": {
   "codemirror_mode": {
    "name": "ipython",
    "version": 3
   },
   "file_extension": ".py",
   "mimetype": "text/x-python",
   "name": "python",
   "nbconvert_exporter": "python",
   "pygments_lexer": "ipython3",
   "version": "3.8.2"
  }
 },
 "nbformat": 4,
 "nbformat_minor": 4
}
