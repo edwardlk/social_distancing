{
 "cells": [
  {
   "cell_type": "markdown",
   "metadata": {},
   "source": [
    "# Historical data\n",
    "\n",
    "Gathering weather data for time prior to collection from Open Weather Map. \n",
    "\n",
    "Data provided by <a href=\"https://www.meteostat.net\" title=\"meteostat\" target=\"_blank\">meteostat</a>. Meteorological data: Copyright &copy; National Oceanic and Atmospheric Administration (NOAA), Deutscher Wetterdienst (DWD). Learn more about the <a href=\"https://www.meteostat.net/sources\" title=\"meteostat Sources\" target=\"_blank\">sources</a>."
   ]
  },
  {
   "cell_type": "code",
   "execution_count": 1,
   "metadata": {},
   "outputs": [],
   "source": [
    "import os\n",
    "import sys\n",
    "import pandas as pd\n",
    "import numpy as np\n",
    "import json\n",
    "import requests\n",
    "from datetime import datetime, timedelta, date\n",
    "import matplotlib.pyplot as plt"
   ]
  },
  {
   "cell_type": "code",
   "execution_count": 2,
   "metadata": {},
   "outputs": [],
   "source": [
    "root_dir = os.path.join(os.getcwd(), '..')\n",
    "src_dir = os.path.join(os.getcwd(), '..', 'src')\n",
    "sys.path.append(root_dir)\n",
    "sys.path.append(src_dir)\n",
    "\n",
    "from conf.auth import ms_api_key\n",
    "from d00_utils.binning import BinTime"
   ]
  },
  {
   "cell_type": "code",
   "execution_count": 3,
   "metadata": {},
   "outputs": [],
   "source": [
    "station_ids = {\n",
    "    'JFK': '74486'\n",
    "}"
   ]
  },
  {
   "cell_type": "code",
   "execution_count": 4,
   "metadata": {},
   "outputs": [],
   "source": [
    "today_str = date.today().strftime('%Y-%m-%d')"
   ]
  },
  {
   "cell_type": "code",
   "execution_count": 5,
   "metadata": {},
   "outputs": [],
   "source": [
    "api_url = '''https://api.meteostat.net/v1/history/hourly?station={}&start=2020-01-01&end={}&key={}'''.format(station_ids['JFK'], today_str, ms_api_key)"
   ]
  },
  {
   "cell_type": "code",
   "execution_count": 6,
   "metadata": {},
   "outputs": [],
   "source": [
    "r = requests.get(api_url)"
   ]
  },
  {
   "cell_type": "code",
   "execution_count": 7,
   "metadata": {},
   "outputs": [],
   "source": [
    "d = json.loads(r.text)\n",
    "\n",
    "temp_hist = pd.DataFrame(d['data'])\n",
    "temp_hist = temp_hist.drop(columns=['dewpoint', 'precipitation_3', 'precipitation_6', 'snowdepth', 'peakgust', 'condition'])"
   ]
  },
  {
   "cell_type": "code",
   "execution_count": 8,
   "metadata": {},
   "outputs": [],
   "source": [
    "# rename columns to follow convention\n",
    "temp_hist = temp_hist.rename(\n",
    "    columns={'temperature': 'temp',\n",
    "             'precipitation': 'rain_1h',\n",
    "             'windspeed': 'wind_speed',\n",
    "             'winddirection': 'wind_deg',\n",
    "             'pressure': 'press'})"
   ]
  },
  {
   "cell_type": "code",
   "execution_count": 9,
   "metadata": {},
   "outputs": [],
   "source": [
    "# convert to F, in.\n",
    "temp_hist['temp'] = (temp_hist['temp'] * 1.8) + 32\n",
    "temp_hist['rain_1h'] = temp_hist['rain_1h'] / 25.4\n",
    "temp_hist['time'] =  pd.to_datetime(temp_hist['time'])"
   ]
  },
  {
   "cell_type": "code",
   "execution_count": 10,
   "metadata": {},
   "outputs": [],
   "source": [
    "temp_hist['time_bin'] = BinTime(temp_hist['time'])"
   ]
  },
  {
   "cell_type": "code",
   "execution_count": 11,
   "metadata": {},
   "outputs": [
    {
     "data": {
      "text/html": [
       "<div>\n",
       "<style scoped>\n",
       "    .dataframe tbody tr th:only-of-type {\n",
       "        vertical-align: middle;\n",
       "    }\n",
       "\n",
       "    .dataframe tbody tr th {\n",
       "        vertical-align: top;\n",
       "    }\n",
       "\n",
       "    .dataframe thead th {\n",
       "        text-align: right;\n",
       "    }\n",
       "</style>\n",
       "<table border=\"1\" class=\"dataframe\">\n",
       "  <thead>\n",
       "    <tr style=\"text-align: right;\">\n",
       "      <th></th>\n",
       "      <th>time</th>\n",
       "      <th>temp</th>\n",
       "      <th>humidity</th>\n",
       "      <th>rain_1h</th>\n",
       "      <th>wind_speed</th>\n",
       "      <th>wind_deg</th>\n",
       "      <th>press</th>\n",
       "      <th>time_bin</th>\n",
       "    </tr>\n",
       "  </thead>\n",
       "  <tbody>\n",
       "    <tr>\n",
       "      <th>0</th>\n",
       "      <td>2020-01-01 00:00:00</td>\n",
       "      <td>42.08</td>\n",
       "      <td>89</td>\n",
       "      <td>0.000000</td>\n",
       "      <td>13.0</td>\n",
       "      <td>220</td>\n",
       "      <td>1004.1</td>\n",
       "      <td>2019-12-31 23:50:00</td>\n",
       "    </tr>\n",
       "    <tr>\n",
       "      <th>1</th>\n",
       "      <td>2020-01-01 01:00:00</td>\n",
       "      <td>42.98</td>\n",
       "      <td>86</td>\n",
       "      <td>0.000000</td>\n",
       "      <td>16.6</td>\n",
       "      <td>210</td>\n",
       "      <td>1003.7</td>\n",
       "      <td>2020-01-01 00:50:00</td>\n",
       "    </tr>\n",
       "    <tr>\n",
       "      <th>2</th>\n",
       "      <td>2020-01-01 02:00:00</td>\n",
       "      <td>44.06</td>\n",
       "      <td>85</td>\n",
       "      <td>0.000000</td>\n",
       "      <td>27.7</td>\n",
       "      <td>250</td>\n",
       "      <td>1004.2</td>\n",
       "      <td>2020-01-01 01:50:00</td>\n",
       "    </tr>\n",
       "    <tr>\n",
       "      <th>3</th>\n",
       "      <td>2020-01-01 03:00:00</td>\n",
       "      <td>42.98</td>\n",
       "      <td>73</td>\n",
       "      <td>0.000000</td>\n",
       "      <td>24.1</td>\n",
       "      <td>270</td>\n",
       "      <td>1003.9</td>\n",
       "      <td>2020-01-01 02:50:00</td>\n",
       "    </tr>\n",
       "    <tr>\n",
       "      <th>4</th>\n",
       "      <td>2020-01-01 04:00:00</td>\n",
       "      <td>42.98</td>\n",
       "      <td>70</td>\n",
       "      <td>0.000000</td>\n",
       "      <td>27.7</td>\n",
       "      <td>270</td>\n",
       "      <td>1004.0</td>\n",
       "      <td>2020-01-01 03:50:00</td>\n",
       "    </tr>\n",
       "    <tr>\n",
       "      <th>...</th>\n",
       "      <td>...</td>\n",
       "      <td>...</td>\n",
       "      <td>...</td>\n",
       "      <td>...</td>\n",
       "      <td>...</td>\n",
       "      <td>...</td>\n",
       "      <td>...</td>\n",
       "      <td>...</td>\n",
       "    </tr>\n",
       "    <tr>\n",
       "      <th>2827</th>\n",
       "      <td>2020-04-27 19:00:00</td>\n",
       "      <td>48.20</td>\n",
       "      <td>71</td>\n",
       "      <td>0.000000</td>\n",
       "      <td>32.0</td>\n",
       "      <td>330</td>\n",
       "      <td>1013.1</td>\n",
       "      <td>2020-04-27 18:50:00</td>\n",
       "    </tr>\n",
       "    <tr>\n",
       "      <th>2828</th>\n",
       "      <td>2020-04-27 20:00:00</td>\n",
       "      <td>50.18</td>\n",
       "      <td>59</td>\n",
       "      <td>0.000000</td>\n",
       "      <td>27.8</td>\n",
       "      <td>348</td>\n",
       "      <td>1013.9</td>\n",
       "      <td>2020-04-27 19:50:00</td>\n",
       "    </tr>\n",
       "    <tr>\n",
       "      <th>2829</th>\n",
       "      <td>2020-04-27 21:00:00</td>\n",
       "      <td>51.08</td>\n",
       "      <td>53</td>\n",
       "      <td>0.003937</td>\n",
       "      <td>25.9</td>\n",
       "      <td>350</td>\n",
       "      <td>1014.1</td>\n",
       "      <td>2020-04-27 20:50:00</td>\n",
       "    </tr>\n",
       "    <tr>\n",
       "      <th>2830</th>\n",
       "      <td>2020-04-27 22:00:00</td>\n",
       "      <td>50.18</td>\n",
       "      <td>54</td>\n",
       "      <td>0.000000</td>\n",
       "      <td>24.1</td>\n",
       "      <td>351</td>\n",
       "      <td>1014.8</td>\n",
       "      <td>2020-04-27 21:50:00</td>\n",
       "    </tr>\n",
       "    <tr>\n",
       "      <th>2831</th>\n",
       "      <td>2020-04-27 23:00:00</td>\n",
       "      <td>49.10</td>\n",
       "      <td>55</td>\n",
       "      <td>0.000000</td>\n",
       "      <td>24.1</td>\n",
       "      <td>353</td>\n",
       "      <td>1015.4</td>\n",
       "      <td>2020-04-27 22:50:00</td>\n",
       "    </tr>\n",
       "  </tbody>\n",
       "</table>\n",
       "<p>2832 rows × 8 columns</p>\n",
       "</div>"
      ],
      "text/plain": [
       "                    time   temp  humidity   rain_1h  wind_speed  wind_deg  \\\n",
       "0    2020-01-01 00:00:00  42.08        89  0.000000        13.0       220   \n",
       "1    2020-01-01 01:00:00  42.98        86  0.000000        16.6       210   \n",
       "2    2020-01-01 02:00:00  44.06        85  0.000000        27.7       250   \n",
       "3    2020-01-01 03:00:00  42.98        73  0.000000        24.1       270   \n",
       "4    2020-01-01 04:00:00  42.98        70  0.000000        27.7       270   \n",
       "...                  ...    ...       ...       ...         ...       ...   \n",
       "2827 2020-04-27 19:00:00  48.20        71  0.000000        32.0       330   \n",
       "2828 2020-04-27 20:00:00  50.18        59  0.000000        27.8       348   \n",
       "2829 2020-04-27 21:00:00  51.08        53  0.003937        25.9       350   \n",
       "2830 2020-04-27 22:00:00  50.18        54  0.000000        24.1       351   \n",
       "2831 2020-04-27 23:00:00  49.10        55  0.000000        24.1       353   \n",
       "\n",
       "       press            time_bin  \n",
       "0     1004.1 2019-12-31 23:50:00  \n",
       "1     1003.7 2020-01-01 00:50:00  \n",
       "2     1004.2 2020-01-01 01:50:00  \n",
       "3     1003.9 2020-01-01 02:50:00  \n",
       "4     1004.0 2020-01-01 03:50:00  \n",
       "...      ...                 ...  \n",
       "2827  1013.1 2020-04-27 18:50:00  \n",
       "2828  1013.9 2020-04-27 19:50:00  \n",
       "2829  1014.1 2020-04-27 20:50:00  \n",
       "2830  1014.8 2020-04-27 21:50:00  \n",
       "2831  1015.4 2020-04-27 22:50:00  \n",
       "\n",
       "[2832 rows x 8 columns]"
      ]
     },
     "execution_count": 11,
     "metadata": {},
     "output_type": "execute_result"
    }
   ],
   "source": [
    "temp_hist"
   ]
  },
  {
   "cell_type": "markdown",
   "metadata": {},
   "source": [
    "## Interpolate\n",
    "Join table above with all time bins, then interpolate 'missing' data."
   ]
  },
  {
   "cell_type": "code",
   "execution_count": 12,
   "metadata": {},
   "outputs": [],
   "source": [
    "num_bins = int(1 + (max(temp_hist['time_bin']) - min(temp_hist['time_bin'])) / timedelta(minutes=15))"
   ]
  },
  {
   "cell_type": "code",
   "execution_count": 13,
   "metadata": {},
   "outputs": [],
   "source": [
    "start = min(temp_hist['time_bin'])\n",
    "end = max(temp_hist['time_bin'])\n",
    "t = np.linspace(start.value, end.value, num_bins)"
   ]
  },
  {
   "cell_type": "code",
   "execution_count": 14,
   "metadata": {},
   "outputs": [],
   "source": [
    "weather_history = pd.DataFrame({'time_bin': pd.to_datetime(t)})"
   ]
  },
  {
   "cell_type": "code",
   "execution_count": 15,
   "metadata": {},
   "outputs": [],
   "source": [
    "binned_weather_hist = weather_history.set_index('time_bin').join(temp_hist.set_index('time_bin'))"
   ]
  },
  {
   "cell_type": "code",
   "execution_count": 16,
   "metadata": {},
   "outputs": [
    {
     "data": {
      "text/html": [
       "<div>\n",
       "<style scoped>\n",
       "    .dataframe tbody tr th:only-of-type {\n",
       "        vertical-align: middle;\n",
       "    }\n",
       "\n",
       "    .dataframe tbody tr th {\n",
       "        vertical-align: top;\n",
       "    }\n",
       "\n",
       "    .dataframe thead th {\n",
       "        text-align: right;\n",
       "    }\n",
       "</style>\n",
       "<table border=\"1\" class=\"dataframe\">\n",
       "  <thead>\n",
       "    <tr style=\"text-align: right;\">\n",
       "      <th></th>\n",
       "      <th>time</th>\n",
       "      <th>temp</th>\n",
       "      <th>humidity</th>\n",
       "      <th>rain_1h</th>\n",
       "      <th>wind_speed</th>\n",
       "      <th>wind_deg</th>\n",
       "      <th>press</th>\n",
       "    </tr>\n",
       "    <tr>\n",
       "      <th>time_bin</th>\n",
       "      <th></th>\n",
       "      <th></th>\n",
       "      <th></th>\n",
       "      <th></th>\n",
       "      <th></th>\n",
       "      <th></th>\n",
       "      <th></th>\n",
       "    </tr>\n",
       "  </thead>\n",
       "  <tbody>\n",
       "    <tr>\n",
       "      <th>2019-12-31 23:50:00</th>\n",
       "      <td>2020-01-01 00:00:00</td>\n",
       "      <td>42.08</td>\n",
       "      <td>89.0</td>\n",
       "      <td>0.0</td>\n",
       "      <td>13.0</td>\n",
       "      <td>220.0</td>\n",
       "      <td>1004.1</td>\n",
       "    </tr>\n",
       "    <tr>\n",
       "      <th>2020-01-01 00:05:00</th>\n",
       "      <td>NaT</td>\n",
       "      <td>NaN</td>\n",
       "      <td>NaN</td>\n",
       "      <td>NaN</td>\n",
       "      <td>NaN</td>\n",
       "      <td>NaN</td>\n",
       "      <td>NaN</td>\n",
       "    </tr>\n",
       "    <tr>\n",
       "      <th>2020-01-01 00:20:00</th>\n",
       "      <td>NaT</td>\n",
       "      <td>NaN</td>\n",
       "      <td>NaN</td>\n",
       "      <td>NaN</td>\n",
       "      <td>NaN</td>\n",
       "      <td>NaN</td>\n",
       "      <td>NaN</td>\n",
       "    </tr>\n",
       "    <tr>\n",
       "      <th>2020-01-01 00:35:00</th>\n",
       "      <td>NaT</td>\n",
       "      <td>NaN</td>\n",
       "      <td>NaN</td>\n",
       "      <td>NaN</td>\n",
       "      <td>NaN</td>\n",
       "      <td>NaN</td>\n",
       "      <td>NaN</td>\n",
       "    </tr>\n",
       "    <tr>\n",
       "      <th>2020-01-01 00:50:00</th>\n",
       "      <td>2020-01-01 01:00:00</td>\n",
       "      <td>42.98</td>\n",
       "      <td>86.0</td>\n",
       "      <td>0.0</td>\n",
       "      <td>16.6</td>\n",
       "      <td>210.0</td>\n",
       "      <td>1003.7</td>\n",
       "    </tr>\n",
       "    <tr>\n",
       "      <th>...</th>\n",
       "      <td>...</td>\n",
       "      <td>...</td>\n",
       "      <td>...</td>\n",
       "      <td>...</td>\n",
       "      <td>...</td>\n",
       "      <td>...</td>\n",
       "      <td>...</td>\n",
       "    </tr>\n",
       "    <tr>\n",
       "      <th>2020-04-27 21:50:00</th>\n",
       "      <td>2020-04-27 22:00:00</td>\n",
       "      <td>50.18</td>\n",
       "      <td>54.0</td>\n",
       "      <td>0.0</td>\n",
       "      <td>24.1</td>\n",
       "      <td>351.0</td>\n",
       "      <td>1014.8</td>\n",
       "    </tr>\n",
       "    <tr>\n",
       "      <th>2020-04-27 22:05:00</th>\n",
       "      <td>NaT</td>\n",
       "      <td>NaN</td>\n",
       "      <td>NaN</td>\n",
       "      <td>NaN</td>\n",
       "      <td>NaN</td>\n",
       "      <td>NaN</td>\n",
       "      <td>NaN</td>\n",
       "    </tr>\n",
       "    <tr>\n",
       "      <th>2020-04-27 22:20:00</th>\n",
       "      <td>NaT</td>\n",
       "      <td>NaN</td>\n",
       "      <td>NaN</td>\n",
       "      <td>NaN</td>\n",
       "      <td>NaN</td>\n",
       "      <td>NaN</td>\n",
       "      <td>NaN</td>\n",
       "    </tr>\n",
       "    <tr>\n",
       "      <th>2020-04-27 22:35:00</th>\n",
       "      <td>NaT</td>\n",
       "      <td>NaN</td>\n",
       "      <td>NaN</td>\n",
       "      <td>NaN</td>\n",
       "      <td>NaN</td>\n",
       "      <td>NaN</td>\n",
       "      <td>NaN</td>\n",
       "    </tr>\n",
       "    <tr>\n",
       "      <th>2020-04-27 22:50:00</th>\n",
       "      <td>2020-04-27 23:00:00</td>\n",
       "      <td>49.10</td>\n",
       "      <td>55.0</td>\n",
       "      <td>0.0</td>\n",
       "      <td>24.1</td>\n",
       "      <td>353.0</td>\n",
       "      <td>1015.4</td>\n",
       "    </tr>\n",
       "  </tbody>\n",
       "</table>\n",
       "<p>11325 rows × 7 columns</p>\n",
       "</div>"
      ],
      "text/plain": [
       "                                   time   temp  humidity  rain_1h  wind_speed  \\\n",
       "time_bin                                                                        \n",
       "2019-12-31 23:50:00 2020-01-01 00:00:00  42.08      89.0      0.0        13.0   \n",
       "2020-01-01 00:05:00                 NaT    NaN       NaN      NaN         NaN   \n",
       "2020-01-01 00:20:00                 NaT    NaN       NaN      NaN         NaN   \n",
       "2020-01-01 00:35:00                 NaT    NaN       NaN      NaN         NaN   \n",
       "2020-01-01 00:50:00 2020-01-01 01:00:00  42.98      86.0      0.0        16.6   \n",
       "...                                 ...    ...       ...      ...         ...   \n",
       "2020-04-27 21:50:00 2020-04-27 22:00:00  50.18      54.0      0.0        24.1   \n",
       "2020-04-27 22:05:00                 NaT    NaN       NaN      NaN         NaN   \n",
       "2020-04-27 22:20:00                 NaT    NaN       NaN      NaN         NaN   \n",
       "2020-04-27 22:35:00                 NaT    NaN       NaN      NaN         NaN   \n",
       "2020-04-27 22:50:00 2020-04-27 23:00:00  49.10      55.0      0.0        24.1   \n",
       "\n",
       "                     wind_deg   press  \n",
       "time_bin                               \n",
       "2019-12-31 23:50:00     220.0  1004.1  \n",
       "2020-01-01 00:05:00       NaN     NaN  \n",
       "2020-01-01 00:20:00       NaN     NaN  \n",
       "2020-01-01 00:35:00       NaN     NaN  \n",
       "2020-01-01 00:50:00     210.0  1003.7  \n",
       "...                       ...     ...  \n",
       "2020-04-27 21:50:00     351.0  1014.8  \n",
       "2020-04-27 22:05:00       NaN     NaN  \n",
       "2020-04-27 22:20:00       NaN     NaN  \n",
       "2020-04-27 22:35:00       NaN     NaN  \n",
       "2020-04-27 22:50:00     353.0  1015.4  \n",
       "\n",
       "[11325 rows x 7 columns]"
      ]
     },
     "execution_count": 16,
     "metadata": {},
     "output_type": "execute_result"
    }
   ],
   "source": [
    "binned_weather_hist"
   ]
  },
  {
   "cell_type": "code",
   "execution_count": 17,
   "metadata": {},
   "outputs": [],
   "source": [
    "bin_int_weather_hist = binned_weather_hist.interpolate(method='polynomial', order=2, limit_direction ='forward')"
   ]
  },
  {
   "cell_type": "code",
   "execution_count": 18,
   "metadata": {},
   "outputs": [
    {
     "name": "stderr",
     "output_type": "stream",
     "text": [
      "/usr/lib/python3.8/site-packages/pandas/plotting/_matplotlib/converter.py:103: FutureWarning: Using an implicitly registered datetime converter for a matplotlib plotting method. The converter was registered by pandas on import. Future versions of pandas will require you to explicitly register matplotlib converters.\n",
      "\n",
      "To register the converters:\n",
      "\t>>> from pandas.plotting import register_matplotlib_converters\n",
      "\t>>> register_matplotlib_converters()\n",
      "  warnings.warn(msg, FutureWarning)\n"
     ]
    },
    {
     "data": {
      "text/plain": [
       "(737539.9513888889, 737542.9513888889)"
      ]
     },
     "execution_count": 18,
     "metadata": {},
     "output_type": "execute_result"
    },
    {
     "data": {
      "image/png": "[encoded data removed]",
      "text/plain": [
       "<Figure size 1080x216 with 1 Axes>"
      ]
     },
     "metadata": {
      "needs_background": "light"
     },
     "output_type": "display_data"
    }
   ],
   "source": [
    "plt.figure(figsize=(15,3))\n",
    "\n",
    "plt.scatter(bin_int_weather_hist.index, bin_int_weather_hist.temp)\n",
    "plt.scatter(bin_int_weather_hist.time, bin_int_weather_hist.temp)\n",
    "plt.xlim((max(bin_int_weather_hist.index)-timedelta(days=3), max(bin_int_weather_hist.index))) "
   ]
  },
  {
   "cell_type": "code",
   "execution_count": 19,
   "metadata": {},
   "outputs": [
    {
     "data": {
      "text/plain": [
       "(737539.9513888889, 737542.9513888889)"
      ]
     },
     "execution_count": 19,
     "metadata": {},
     "output_type": "execute_result"
    },
    {
     "data": {
      "image/png": "[encoded data removed]",
      "text/plain": [
       "<Figure size 1080x216 with 1 Axes>"
      ]
     },
     "metadata": {
      "needs_background": "light"
     },
     "output_type": "display_data"
    }
   ],
   "source": [
    "plt.figure(figsize=(15,3))\n",
    "\n",
    "plt.scatter(bin_int_weather_hist.index, bin_int_weather_hist.rain_1h)\n",
    "plt.scatter(bin_int_weather_hist.time, bin_int_weather_hist.rain_1h)\n",
    "plt.xlim((max(bin_int_weather_hist.index)-timedelta(days=3), max(bin_int_weather_hist.index))) "
   ]
  },
  {
   "cell_type": "code",
   "execution_count": 20,
   "metadata": {},
   "outputs": [],
   "source": [
    "output_file = os.path.join(root_dir, 'data', 'binned_weather_history.csv')\n",
    "\n",
    "bin_int_weather_hist.to_csv(output_file)"
   ]
  },
  {
   "cell_type": "code",
   "execution_count": null,
   "metadata": {},
   "outputs": [],
   "source": []
  }
 ],
 "metadata": {
  "kernelspec": {
   "display_name": "Python 3",
   "language": "python",
   "name": "python3"
  },
  "language_info": {
   "codemirror_mode": {
    "name": "ipython",
    "version": 3
   },
   "file_extension": ".py",
   "mimetype": "text/x-python",
   "name": "python",
   "nbconvert_exporter": "python",
   "pygments_lexer": "ipython3",
   "version": "3.8.2"
  }
 },
 "nbformat": 4,
 "nbformat_minor": 4
}
