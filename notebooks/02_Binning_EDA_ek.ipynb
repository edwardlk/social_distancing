{
 "cells": [
  {
   "cell_type": "code",
   "execution_count": 1,
   "metadata": {},
   "outputs": [],
   "source": [
    "import os\n",
    "import sys\n",
    "import numpy as np\n",
    "import pandas as pd\n",
    "import matplotlib.pyplot as plt\n",
    "\n",
    "from datetime import timedelta"
   ]
  },
  {
   "cell_type": "code",
   "execution_count": 2,
   "metadata": {},
   "outputs": [],
   "source": [
    "root_dir = os.path.join(os.getcwd(), '..')\n",
    "src_dir = os.path.join(os.getcwd(), '..', 'src')\n",
    "sys.path.append(root_dir)\n",
    "sys.path.append(src_dir)\n",
    "\n",
    "from d00_utils.binning import BinTime"
   ]
  },
  {
   "cell_type": "code",
   "execution_count": 3,
   "metadata": {},
   "outputs": [],
   "source": [
    "current_log = pd.read_csv(os.path.join(root_dir, 'data', 'current_log.csv'), index_col=0)"
   ]
  },
  {
   "cell_type": "code",
   "execution_count": 4,
   "metadata": {},
   "outputs": [],
   "source": [
    "# convert unix times to datetimes\n",
    "times_lst = ['reception_time', 'reference_time', 'sunrise_time', 'sunset_time']\n",
    "\n",
    "tz_correct = 60 * 60 * 4\n",
    "\n",
    "for col_n in ['reception_time', 'reference_time']:\n",
    "    current_log[col_n] = pd.to_datetime(current_log[col_n], unit='s')\n",
    "\n",
    "for col_n in ['sunrise_time', 'sunset_time']:\n",
    "    current_log[col_n] = pd.to_datetime(current_log[col_n] - tz_correct, unit='s')\n"
   ]
  },
  {
   "cell_type": "code",
   "execution_count": 5,
   "metadata": {},
   "outputs": [],
   "source": [
    "current_log['time_bin'] = BinTime(current_log['reception_time'])\n",
    "\n",
    "binned_current_log = pd.concat(\n",
    "    [current_log.groupby(['time_bin']).mean(),\n",
    "     current_log.groupby(['time_bin']).max()[['park_name', 'sunrise_time', 'sunset_time', 'status', 'detailed_status']]],\n",
    "    axis=1, sort=False)"
   ]
  },
  {
   "cell_type": "code",
   "execution_count": 6,
   "metadata": {},
   "outputs": [
    {
     "data": {
      "text/html": [
       "<div>\n",
       "<style scoped>\n",
       "    .dataframe tbody tr th:only-of-type {\n",
       "        vertical-align: middle;\n",
       "    }\n",
       "\n",
       "    .dataframe tbody tr th {\n",
       "        vertical-align: top;\n",
       "    }\n",
       "\n",
       "    .dataframe thead th {\n",
       "        text-align: right;\n",
       "    }\n",
       "</style>\n",
       "<table border=\"1\" class=\"dataframe\">\n",
       "  <thead>\n",
       "    <tr style=\"text-align: right;\">\n",
       "      <th></th>\n",
       "      <th>clouds</th>\n",
       "      <th>rain_1h</th>\n",
       "      <th>snow_1h</th>\n",
       "      <th>wind_speed</th>\n",
       "      <th>wind_deg</th>\n",
       "      <th>humidity</th>\n",
       "      <th>press</th>\n",
       "      <th>temp</th>\n",
       "      <th>temp_feels</th>\n",
       "      <th>temp_max</th>\n",
       "      <th>temp_min</th>\n",
       "      <th>park_name</th>\n",
       "      <th>sunrise_time</th>\n",
       "      <th>sunset_time</th>\n",
       "      <th>status</th>\n",
       "      <th>detailed_status</th>\n",
       "    </tr>\n",
       "    <tr>\n",
       "      <th>time_bin</th>\n",
       "      <th></th>\n",
       "      <th></th>\n",
       "      <th></th>\n",
       "      <th></th>\n",
       "      <th></th>\n",
       "      <th></th>\n",
       "      <th></th>\n",
       "      <th></th>\n",
       "      <th></th>\n",
       "      <th></th>\n",
       "      <th></th>\n",
       "      <th></th>\n",
       "      <th></th>\n",
       "      <th></th>\n",
       "      <th></th>\n",
       "      <th></th>\n",
       "    </tr>\n",
       "  </thead>\n",
       "  <tbody>\n",
       "    <tr>\n",
       "      <th>2020-04-04 08:35:00</th>\n",
       "      <td>90.0</td>\n",
       "      <td>0.25</td>\n",
       "      <td>0.0</td>\n",
       "      <td>5.10</td>\n",
       "      <td>40.0</td>\n",
       "      <td>93.0</td>\n",
       "      <td>1016.0</td>\n",
       "      <td>46.40</td>\n",
       "      <td>38.70</td>\n",
       "      <td>48.200</td>\n",
       "      <td>44.6</td>\n",
       "      <td>Prospect Park</td>\n",
       "      <td>2020-04-04 06:33:33</td>\n",
       "      <td>2020-04-04 19:23:28</td>\n",
       "      <td>Rain</td>\n",
       "      <td>light rain</td>\n",
       "    </tr>\n",
       "    <tr>\n",
       "      <th>2020-04-04 08:50:00</th>\n",
       "      <td>90.0</td>\n",
       "      <td>0.25</td>\n",
       "      <td>0.0</td>\n",
       "      <td>4.60</td>\n",
       "      <td>40.0</td>\n",
       "      <td>93.0</td>\n",
       "      <td>1016.0</td>\n",
       "      <td>46.60</td>\n",
       "      <td>39.56</td>\n",
       "      <td>48.200</td>\n",
       "      <td>44.6</td>\n",
       "      <td>Prospect Park</td>\n",
       "      <td>2020-04-04 06:33:33</td>\n",
       "      <td>2020-04-04 19:23:28</td>\n",
       "      <td>Rain</td>\n",
       "      <td>light rain</td>\n",
       "    </tr>\n",
       "    <tr>\n",
       "      <th>2020-04-04 09:05:00</th>\n",
       "      <td>90.0</td>\n",
       "      <td>0.00</td>\n",
       "      <td>0.0</td>\n",
       "      <td>4.60</td>\n",
       "      <td>40.0</td>\n",
       "      <td>93.0</td>\n",
       "      <td>1016.0</td>\n",
       "      <td>46.69</td>\n",
       "      <td>39.67</td>\n",
       "      <td>48.200</td>\n",
       "      <td>44.6</td>\n",
       "      <td>Prospect Park</td>\n",
       "      <td>2020-04-04 06:33:33</td>\n",
       "      <td>2020-04-04 19:23:28</td>\n",
       "      <td>Rain</td>\n",
       "      <td>light rain</td>\n",
       "    </tr>\n",
       "    <tr>\n",
       "      <th>2020-04-04 09:20:00</th>\n",
       "      <td>90.0</td>\n",
       "      <td>0.00</td>\n",
       "      <td>0.0</td>\n",
       "      <td>4.35</td>\n",
       "      <td>45.0</td>\n",
       "      <td>93.0</td>\n",
       "      <td>1016.0</td>\n",
       "      <td>46.95</td>\n",
       "      <td>40.31</td>\n",
       "      <td>48.595</td>\n",
       "      <td>45.0</td>\n",
       "      <td>Prospect Park</td>\n",
       "      <td>2020-04-04 06:33:33</td>\n",
       "      <td>2020-04-04 19:23:28</td>\n",
       "      <td>Rain</td>\n",
       "      <td>light rain</td>\n",
       "    </tr>\n",
       "    <tr>\n",
       "      <th>2020-04-04 09:35:00</th>\n",
       "      <td>90.0</td>\n",
       "      <td>0.00</td>\n",
       "      <td>0.0</td>\n",
       "      <td>4.10</td>\n",
       "      <td>50.0</td>\n",
       "      <td>93.0</td>\n",
       "      <td>1016.0</td>\n",
       "      <td>47.05</td>\n",
       "      <td>40.75</td>\n",
       "      <td>48.990</td>\n",
       "      <td>45.0</td>\n",
       "      <td>Prospect Park</td>\n",
       "      <td>2020-04-04 06:33:33</td>\n",
       "      <td>2020-04-04 19:23:28</td>\n",
       "      <td>Rain</td>\n",
       "      <td>light rain</td>\n",
       "    </tr>\n",
       "  </tbody>\n",
       "</table>\n",
       "</div>"
      ],
      "text/plain": [
       "                     clouds  rain_1h  snow_1h  wind_speed  wind_deg  humidity  \\\n",
       "time_bin                                                                        \n",
       "2020-04-04 08:35:00    90.0     0.25      0.0        5.10      40.0      93.0   \n",
       "2020-04-04 08:50:00    90.0     0.25      0.0        4.60      40.0      93.0   \n",
       "2020-04-04 09:05:00    90.0     0.00      0.0        4.60      40.0      93.0   \n",
       "2020-04-04 09:20:00    90.0     0.00      0.0        4.35      45.0      93.0   \n",
       "2020-04-04 09:35:00    90.0     0.00      0.0        4.10      50.0      93.0   \n",
       "\n",
       "                      press   temp  temp_feels  temp_max  temp_min  \\\n",
       "time_bin                                                             \n",
       "2020-04-04 08:35:00  1016.0  46.40       38.70    48.200      44.6   \n",
       "2020-04-04 08:50:00  1016.0  46.60       39.56    48.200      44.6   \n",
       "2020-04-04 09:05:00  1016.0  46.69       39.67    48.200      44.6   \n",
       "2020-04-04 09:20:00  1016.0  46.95       40.31    48.595      45.0   \n",
       "2020-04-04 09:35:00  1016.0  47.05       40.75    48.990      45.0   \n",
       "\n",
       "                         park_name        sunrise_time         sunset_time  \\\n",
       "time_bin                                                                     \n",
       "2020-04-04 08:35:00  Prospect Park 2020-04-04 06:33:33 2020-04-04 19:23:28   \n",
       "2020-04-04 08:50:00  Prospect Park 2020-04-04 06:33:33 2020-04-04 19:23:28   \n",
       "2020-04-04 09:05:00  Prospect Park 2020-04-04 06:33:33 2020-04-04 19:23:28   \n",
       "2020-04-04 09:20:00  Prospect Park 2020-04-04 06:33:33 2020-04-04 19:23:28   \n",
       "2020-04-04 09:35:00  Prospect Park 2020-04-04 06:33:33 2020-04-04 19:23:28   \n",
       "\n",
       "                    status detailed_status  \n",
       "time_bin                                    \n",
       "2020-04-04 08:35:00   Rain      light rain  \n",
       "2020-04-04 08:50:00   Rain      light rain  \n",
       "2020-04-04 09:05:00   Rain      light rain  \n",
       "2020-04-04 09:20:00   Rain      light rain  \n",
       "2020-04-04 09:35:00   Rain      light rain  "
      ]
     },
     "execution_count": 6,
     "metadata": {},
     "output_type": "execute_result"
    }
   ],
   "source": [
    "binned_current_log.head(5)"
   ]
  },
  {
   "cell_type": "code",
   "execution_count": 7,
   "metadata": {},
   "outputs": [],
   "source": [
    "binned_current_log.to_csv(os.path.join(root_dir, 'data', 'binned_current_log.csv'))"
   ]
  },
  {
   "cell_type": "code",
   "execution_count": 8,
   "metadata": {},
   "outputs": [
    {
     "name": "stderr",
     "output_type": "stream",
     "text": [
      "/usr/lib/python3.8/site-packages/pandas/plotting/_matplotlib/converter.py:103: FutureWarning: Using an implicitly registered datetime converter for a matplotlib plotting method. The converter was registered by pandas on import. Future versions of pandas will require you to explicitly register matplotlib converters.\n",
      "\n",
      "To register the converters:\n",
      "\t>>> from pandas.plotting import register_matplotlib_converters\n",
      "\t>>> register_matplotlib_converters()\n",
      "  warnings.warn(msg, FutureWarning)\n"
     ]
    },
    {
     "data": {
      "text/plain": [
       "(737518.3576388889, 737543.6284722222)"
      ]
     },
     "execution_count": 8,
     "metadata": {},
     "output_type": "execute_result"
    },
    {
     "data": {
      "image/png": "[encoded data removed]",
      "text/plain": [
       "<Figure size 1080x216 with 1 Axes>"
      ]
     },
     "metadata": {
      "needs_background": "light"
     },
     "output_type": "display_data"
    }
   ],
   "source": [
    "plt.figure(figsize=(15,3))\n",
    "\n",
    "plt.scatter(binned_current_log.index, binned_current_log.temp_feels, marker='.')\n",
    "plt.xlim((min(binned_current_log.index)-timedelta(days=1), max(binned_current_log.index)+timedelta(days=1)))"
   ]
  },
  {
   "cell_type": "code",
   "execution_count": 9,
   "metadata": {},
   "outputs": [],
   "source": [
    "# create df with all possible time bins\n",
    "start = min(binned_current_log.index)\n",
    "end = max(binned_current_log.index)\n",
    "\n",
    "num_bins = int(1 + (end - start) / timedelta(minutes=15))\n",
    "t = np.linspace(start.value, end.value, num_bins)\n",
    "\n",
    "all_bins = pd.DataFrame({'time_bin': pd.to_datetime(t)})"
   ]
  },
  {
   "cell_type": "code",
   "execution_count": 10,
   "metadata": {},
   "outputs": [],
   "source": [
    "# join data to all bins\n",
    "all_bins_df = all_bins.set_index('time_bin').join(binned_current_log)"
   ]
  },
  {
   "cell_type": "code",
   "execution_count": 11,
   "metadata": {},
   "outputs": [],
   "source": [
    "# interpolate some missing data\n",
    "interp_2nd = ['press', 'temp', 'temp_feels', 'temp_max', 'temp_min']\n",
    "\n",
    "interp_1st = ['clouds', 'humidity']\n",
    "\n",
    "interp_min = ['wind_speed', 'wind_deg']\n",
    "\n",
    "for col in interp_1st:\n",
    "    all_bins_df[col] = all_bins_df[col].interpolate(\n",
    "        method='polynomial', order=1, limit_direction ='forward')\n",
    "\n",
    "for col in interp_2nd:\n",
    "    all_bins_df[col] = all_bins_df[col].interpolate(\n",
    "        method='polynomial', order=2, limit_direction ='forward')\n",
    "\n",
    "for col in interp_min:\n",
    "    all_bins_df[col] = all_bins_df[col].interpolate(\n",
    "        method='polynomial', order=1, limit_direction ='forward').clip(lower=0)"
   ]
  },
  {
   "cell_type": "code",
   "execution_count": 12,
   "metadata": {},
   "outputs": [
    {
     "data": {
      "text/plain": [
       "Index(['clouds', 'rain_1h', 'snow_1h', 'wind_speed', 'wind_deg', 'humidity',\n",
       "       'press', 'temp', 'temp_feels', 'temp_max', 'temp_min', 'park_name',\n",
       "       'sunrise_time', 'sunset_time', 'status', 'detailed_status'],\n",
       "      dtype='object')"
      ]
     },
     "execution_count": 12,
     "metadata": {},
     "output_type": "execute_result"
    }
   ],
   "source": [
    "all_bins_df.columns"
   ]
  },
  {
   "cell_type": "code",
   "execution_count": 13,
   "metadata": {},
   "outputs": [
    {
     "data": {
      "text/plain": [
       "(737518.3576388889, 737543.6284722222)"
      ]
     },
     "execution_count": 13,
     "metadata": {},
     "output_type": "execute_result"
    },
    {
     "data": {
      "image/png": "[encoded data removed]",
      "text/plain": [
       "<Figure size 1080x216 with 1 Axes>"
      ]
     },
     "metadata": {
      "needs_background": "light"
     },
     "output_type": "display_data"
    }
   ],
   "source": [
    "plot_col = 'wind_speed'\n",
    "\n",
    "plt.figure(figsize=(15,3))\n",
    "\n",
    "plt.scatter(all_bins_df.index, all_bins_df[plot_col], marker='.')\n",
    "plt.scatter(binned_current_log.index, binned_current_log[plot_col], marker='.')\n",
    "plt.xlim((min(all_bins_df.index)-timedelta(days=1), max(all_bins_df.index)+timedelta(days=1)))"
   ]
  },
  {
   "cell_type": "code",
   "execution_count": 14,
   "metadata": {},
   "outputs": [
    {
     "data": {
      "text/html": [
       "<div>\n",
       "<style scoped>\n",
       "    .dataframe tbody tr th:only-of-type {\n",
       "        vertical-align: middle;\n",
       "    }\n",
       "\n",
       "    .dataframe tbody tr th {\n",
       "        vertical-align: top;\n",
       "    }\n",
       "\n",
       "    .dataframe thead th {\n",
       "        text-align: right;\n",
       "    }\n",
       "</style>\n",
       "<table border=\"1\" class=\"dataframe\">\n",
       "  <thead>\n",
       "    <tr style=\"text-align: right;\">\n",
       "      <th></th>\n",
       "      <th>sunrise_time</th>\n",
       "      <th>sunset_time</th>\n",
       "      <th>clouds</th>\n",
       "      <th>rain_1h</th>\n",
       "      <th>snow_1h</th>\n",
       "      <th>wind_speed</th>\n",
       "      <th>humidity</th>\n",
       "      <th>press</th>\n",
       "      <th>temp_feels</th>\n",
       "    </tr>\n",
       "    <tr>\n",
       "      <th>time_bin</th>\n",
       "      <th></th>\n",
       "      <th></th>\n",
       "      <th></th>\n",
       "      <th></th>\n",
       "      <th></th>\n",
       "      <th></th>\n",
       "      <th></th>\n",
       "      <th></th>\n",
       "      <th></th>\n",
       "    </tr>\n",
       "  </thead>\n",
       "  <tbody>\n",
       "    <tr>\n",
       "      <th>2020-04-04 08:35:00</th>\n",
       "      <td>2020-04-04 06:33:33</td>\n",
       "      <td>2020-04-04 19:23:28</td>\n",
       "      <td>90.0</td>\n",
       "      <td>0.25</td>\n",
       "      <td>0.0</td>\n",
       "      <td>5.10</td>\n",
       "      <td>93.0</td>\n",
       "      <td>1016.0</td>\n",
       "      <td>38.700000</td>\n",
       "    </tr>\n",
       "    <tr>\n",
       "      <th>2020-04-04 08:50:00</th>\n",
       "      <td>2020-04-04 06:33:33</td>\n",
       "      <td>2020-04-04 19:23:28</td>\n",
       "      <td>90.0</td>\n",
       "      <td>0.25</td>\n",
       "      <td>0.0</td>\n",
       "      <td>4.60</td>\n",
       "      <td>93.0</td>\n",
       "      <td>1016.0</td>\n",
       "      <td>39.560000</td>\n",
       "    </tr>\n",
       "    <tr>\n",
       "      <th>2020-04-04 09:05:00</th>\n",
       "      <td>2020-04-04 06:33:33</td>\n",
       "      <td>2020-04-04 19:23:28</td>\n",
       "      <td>90.0</td>\n",
       "      <td>0.00</td>\n",
       "      <td>0.0</td>\n",
       "      <td>4.60</td>\n",
       "      <td>93.0</td>\n",
       "      <td>1016.0</td>\n",
       "      <td>39.670000</td>\n",
       "    </tr>\n",
       "    <tr>\n",
       "      <th>2020-04-04 09:20:00</th>\n",
       "      <td>2020-04-04 06:33:33</td>\n",
       "      <td>2020-04-04 19:23:28</td>\n",
       "      <td>90.0</td>\n",
       "      <td>0.00</td>\n",
       "      <td>0.0</td>\n",
       "      <td>4.35</td>\n",
       "      <td>93.0</td>\n",
       "      <td>1016.0</td>\n",
       "      <td>40.310000</td>\n",
       "    </tr>\n",
       "    <tr>\n",
       "      <th>2020-04-04 09:35:00</th>\n",
       "      <td>2020-04-04 06:33:33</td>\n",
       "      <td>2020-04-04 19:23:28</td>\n",
       "      <td>90.0</td>\n",
       "      <td>0.00</td>\n",
       "      <td>0.0</td>\n",
       "      <td>4.10</td>\n",
       "      <td>93.0</td>\n",
       "      <td>1016.0</td>\n",
       "      <td>40.750000</td>\n",
       "    </tr>\n",
       "    <tr>\n",
       "      <th>...</th>\n",
       "      <td>...</td>\n",
       "      <td>...</td>\n",
       "      <td>...</td>\n",
       "      <td>...</td>\n",
       "      <td>...</td>\n",
       "      <td>...</td>\n",
       "      <td>...</td>\n",
       "      <td>...</td>\n",
       "      <td>...</td>\n",
       "    </tr>\n",
       "    <tr>\n",
       "      <th>2020-04-27 13:35:00</th>\n",
       "      <td>2020-04-27 05:59:02</td>\n",
       "      <td>2020-04-27 19:47:34</td>\n",
       "      <td>90.0</td>\n",
       "      <td>0.00</td>\n",
       "      <td>0.0</td>\n",
       "      <td>2.60</td>\n",
       "      <td>66.0</td>\n",
       "      <td>1013.0</td>\n",
       "      <td>40.980000</td>\n",
       "    </tr>\n",
       "    <tr>\n",
       "      <th>2020-04-27 13:50:00</th>\n",
       "      <td>2020-04-27 05:59:02</td>\n",
       "      <td>2020-04-27 19:47:34</td>\n",
       "      <td>90.0</td>\n",
       "      <td>0.00</td>\n",
       "      <td>0.0</td>\n",
       "      <td>2.60</td>\n",
       "      <td>66.0</td>\n",
       "      <td>1013.0</td>\n",
       "      <td>41.136667</td>\n",
       "    </tr>\n",
       "    <tr>\n",
       "      <th>2020-04-27 14:05:00</th>\n",
       "      <td>2020-04-27 05:59:02</td>\n",
       "      <td>2020-04-27 19:47:34</td>\n",
       "      <td>90.0</td>\n",
       "      <td>0.00</td>\n",
       "      <td>0.0</td>\n",
       "      <td>2.60</td>\n",
       "      <td>66.0</td>\n",
       "      <td>1013.0</td>\n",
       "      <td>41.380000</td>\n",
       "    </tr>\n",
       "    <tr>\n",
       "      <th>2020-04-27 14:50:00</th>\n",
       "      <td>2020-04-27 05:59:02</td>\n",
       "      <td>2020-04-27 19:47:34</td>\n",
       "      <td>90.0</td>\n",
       "      <td>0.00</td>\n",
       "      <td>0.0</td>\n",
       "      <td>2.60</td>\n",
       "      <td>70.0</td>\n",
       "      <td>1013.0</td>\n",
       "      <td>43.020000</td>\n",
       "    </tr>\n",
       "    <tr>\n",
       "      <th>2020-04-27 15:05:00</th>\n",
       "      <td>2020-04-27 05:59:02</td>\n",
       "      <td>2020-04-27 19:47:34</td>\n",
       "      <td>90.0</td>\n",
       "      <td>0.00</td>\n",
       "      <td>0.0</td>\n",
       "      <td>2.60</td>\n",
       "      <td>70.0</td>\n",
       "      <td>1013.0</td>\n",
       "      <td>43.000000</td>\n",
       "    </tr>\n",
       "  </tbody>\n",
       "</table>\n",
       "<p>1775 rows × 9 columns</p>\n",
       "</div>"
      ],
      "text/plain": [
       "                           sunrise_time         sunset_time  clouds  rain_1h  \\\n",
       "time_bin                                                                       \n",
       "2020-04-04 08:35:00 2020-04-04 06:33:33 2020-04-04 19:23:28    90.0     0.25   \n",
       "2020-04-04 08:50:00 2020-04-04 06:33:33 2020-04-04 19:23:28    90.0     0.25   \n",
       "2020-04-04 09:05:00 2020-04-04 06:33:33 2020-04-04 19:23:28    90.0     0.00   \n",
       "2020-04-04 09:20:00 2020-04-04 06:33:33 2020-04-04 19:23:28    90.0     0.00   \n",
       "2020-04-04 09:35:00 2020-04-04 06:33:33 2020-04-04 19:23:28    90.0     0.00   \n",
       "...                                 ...                 ...     ...      ...   \n",
       "2020-04-27 13:35:00 2020-04-27 05:59:02 2020-04-27 19:47:34    90.0     0.00   \n",
       "2020-04-27 13:50:00 2020-04-27 05:59:02 2020-04-27 19:47:34    90.0     0.00   \n",
       "2020-04-27 14:05:00 2020-04-27 05:59:02 2020-04-27 19:47:34    90.0     0.00   \n",
       "2020-04-27 14:50:00 2020-04-27 05:59:02 2020-04-27 19:47:34    90.0     0.00   \n",
       "2020-04-27 15:05:00 2020-04-27 05:59:02 2020-04-27 19:47:34    90.0     0.00   \n",
       "\n",
       "                     snow_1h  wind_speed  humidity   press  temp_feels  \n",
       "time_bin                                                                \n",
       "2020-04-04 08:35:00      0.0        5.10      93.0  1016.0   38.700000  \n",
       "2020-04-04 08:50:00      0.0        4.60      93.0  1016.0   39.560000  \n",
       "2020-04-04 09:05:00      0.0        4.60      93.0  1016.0   39.670000  \n",
       "2020-04-04 09:20:00      0.0        4.35      93.0  1016.0   40.310000  \n",
       "2020-04-04 09:35:00      0.0        4.10      93.0  1016.0   40.750000  \n",
       "...                      ...         ...       ...     ...         ...  \n",
       "2020-04-27 13:35:00      0.0        2.60      66.0  1013.0   40.980000  \n",
       "2020-04-27 13:50:00      0.0        2.60      66.0  1013.0   41.136667  \n",
       "2020-04-27 14:05:00      0.0        2.60      66.0  1013.0   41.380000  \n",
       "2020-04-27 14:50:00      0.0        2.60      70.0  1013.0   43.020000  \n",
       "2020-04-27 15:05:00      0.0        2.60      70.0  1013.0   43.000000  \n",
       "\n",
       "[1775 rows x 9 columns]"
      ]
     },
     "execution_count": 14,
     "metadata": {},
     "output_type": "execute_result"
    }
   ],
   "source": [
    "binned_current_log[['sunrise_time', 'sunset_time', 'clouds', 'rain_1h', 'snow_1h', 'wind_speed',\n",
    "                    'humidity', 'press', 'temp_feels']]"
   ]
  },
  {
   "cell_type": "code",
   "execution_count": 15,
   "metadata": {},
   "outputs": [
    {
     "data": {
      "text/plain": [
       "time_bin\n",
       "2020-04-04 08:35:00   06:24:57.500000\n",
       "2020-04-04 08:50:00   06:24:57.500000\n",
       "2020-04-04 09:05:00   06:24:57.500000\n",
       "2020-04-04 09:20:00   06:24:57.500000\n",
       "2020-04-04 09:35:00   06:24:57.500000\n",
       "                            ...      \n",
       "2020-04-27 13:35:00          06:54:16\n",
       "2020-04-27 13:50:00          06:54:16\n",
       "2020-04-27 14:05:00          06:54:16\n",
       "2020-04-27 14:50:00          06:54:16\n",
       "2020-04-27 15:05:00          06:54:16\n",
       "Length: 1775, dtype: timedelta64[ns]"
      ]
     },
     "execution_count": 15,
     "metadata": {},
     "output_type": "execute_result"
    }
   ],
   "source": [
    "(binned_current_log['sunset_time'] - binned_current_log['sunrise_time']) / 2"
   ]
  },
  {
   "cell_type": "code",
   "execution_count": 16,
   "metadata": {},
   "outputs": [],
   "source": [
    "binned_current_log['peak_time'] = binned_current_log['sunrise_time'] + (binned_current_log['sunset_time'] - binned_current_log['sunrise_time']) / 2"
   ]
  },
  {
   "cell_type": "code",
   "execution_count": 17,
   "metadata": {},
   "outputs": [],
   "source": [
    "binned_current_log['peak_time'] = abs(binned_current_log['peak_time'] - binned_current_log.index)\n"
   ]
  },
  {
   "cell_type": "code",
   "execution_count": 18,
   "metadata": {},
   "outputs": [
    {
     "data": {
      "text/plain": [
       "time_bin\n",
       "2020-04-04 21:50:00   08:51:29.500000\n",
       "2020-04-04 22:05:00   09:06:29.500000\n",
       "2020-04-04 22:20:00   09:21:29.500000\n",
       "2020-04-04 22:35:00   09:36:29.500000\n",
       "2020-04-04 22:50:00   09:51:29.500000\n",
       "2020-04-04 23:05:00   10:06:29.500000\n",
       "2020-04-04 23:20:00   10:21:29.500000\n",
       "2020-04-04 23:35:00   10:36:29.500000\n",
       "2020-04-04 23:50:00          13:08:13\n",
       "2020-04-05 00:05:00          12:53:13\n",
       "2020-04-05 00:20:00          12:38:13\n",
       "2020-04-05 00:35:00          12:23:13\n",
       "2020-04-05 00:50:00          12:08:13\n",
       "2020-04-05 01:05:00          11:53:13\n",
       "2020-04-05 01:20:00          11:38:13\n",
       "2020-04-05 01:35:00          11:23:13\n",
       "2020-04-05 01:50:00          11:08:13\n",
       "2020-04-05 02:05:00          10:53:13\n",
       "2020-04-05 02:20:00          10:38:13\n",
       "2020-04-05 02:35:00          10:23:13\n",
       "2020-04-05 02:50:00          10:08:13\n",
       "2020-04-05 03:05:00          09:53:13\n",
       "2020-04-05 03:20:00          09:38:13\n",
       "2020-04-05 03:35:00          09:23:13\n",
       "2020-04-05 03:50:00          09:08:13\n",
       "2020-04-05 04:05:00          08:53:13\n",
       "2020-04-05 04:20:00          08:38:13\n",
       "2020-04-05 04:35:00          08:23:13\n",
       "2020-04-05 04:50:00          08:08:13\n",
       "2020-04-05 05:05:00          07:53:13\n",
       "2020-04-05 05:20:00          07:38:13\n",
       "2020-04-05 05:35:00          07:23:13\n",
       "2020-04-05 05:50:00          07:08:13\n",
       "2020-04-05 06:05:00          06:53:13\n",
       "2020-04-05 06:20:00          06:38:13\n",
       "2020-04-05 06:35:00          06:23:13\n",
       "2020-04-05 06:50:00          06:08:13\n",
       "2020-04-05 07:05:00          05:53:13\n",
       "2020-04-05 07:20:00          05:38:13\n",
       "2020-04-05 07:35:00          05:23:13\n",
       "2020-04-05 07:50:00          05:08:13\n",
       "2020-04-05 08:05:00          04:53:13\n",
       "2020-04-05 08:20:00          04:38:13\n",
       "2020-04-05 08:35:00          04:23:13\n",
       "2020-04-05 08:50:00          04:08:13\n",
       "2020-04-05 09:05:00          03:53:13\n",
       "2020-04-05 09:20:00          03:38:13\n",
       "2020-04-05 09:35:00          03:23:13\n",
       "2020-04-05 09:50:00          03:08:13\n",
       "2020-04-05 10:05:00          02:53:13\n",
       "Name: peak_time, dtype: timedelta64[ns]"
      ]
     },
     "execution_count": 18,
     "metadata": {},
     "output_type": "execute_result"
    }
   ],
   "source": [
    "binned_current_log['peak_time'][50:100]"
   ]
  },
  {
   "cell_type": "code",
   "execution_count": null,
   "metadata": {},
   "outputs": [],
   "source": []
  }
 ],
 "metadata": {
  "kernelspec": {
   "display_name": "Python 3",
   "language": "python",
   "name": "python3"
  },
  "language_info": {
   "codemirror_mode": {
    "name": "ipython",
    "version": 3
   },
   "file_extension": ".py",
   "mimetype": "text/x-python",
   "name": "python",
   "nbconvert_exporter": "python",
   "pygments_lexer": "ipython3",
   "version": "3.8.2"
  }
 },
 "nbformat": 4,
 "nbformat_minor": 4
}
