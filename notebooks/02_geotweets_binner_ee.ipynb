{
 "cells": [
  {
   "cell_type": "markdown",
   "metadata": {},
   "source": [
    "### Use Huayi's time binning function to assign our geotagged tweets to 15-minute time bins:\n",
    "#### 05, 20, 35, and 50 mins past the hour. "
   ]
  },
  {
   "cell_type": "code",
   "execution_count": 21,
   "metadata": {},
   "outputs": [],
   "source": [
    "import pandas as pd\n",
    "import numpy as np\n",
    "import datetime as dt"
   ]
  },
  {
   "cell_type": "code",
   "execution_count": 22,
   "metadata": {},
   "outputs": [],
   "source": [
    "# Huayi's time binning function! \n",
    "\n",
    "from datetime import timedelta \n",
    "\n",
    "def binMinute(minute):\n",
    "    '''\n",
    "    Calculate which of the 15min bins the current minute falls in.\n",
    "    The bins are 05, 20, 35, 50. \n",
    "    Current minutes less than 05 belong to bin 50 of the hour before. \n",
    "    '''    \n",
    "    m2q= (minute-5)/15\n",
    "    if m2q < 0:\n",
    "        newminute = -10 \n",
    "    elif m2q < 1:\n",
    "        newminute = 5\n",
    "    elif m2q < 2:\n",
    "        newminute = 20\n",
    "    elif m2q < 3:\n",
    "        newminute = 35\n",
    "    elif m2q < 4:\n",
    "        newminute = 50\n",
    "    return newminute       \n",
    "    \n",
    "def BinTime(df_datetime_col):\n",
    "    '''\n",
    "    Take a df column that contains datetime object (df_datetime_col)\n",
    "    Return a new column that contains the binned datetime object\n",
    "    The bins are as defined in binMinute\n",
    "    '''\n",
    "    binned_col= df_datetime_col.apply(lambda x: x.replace(minute = 0) + timedelta(minutes=binMinute(x.minute)))\n",
    "    return binned_col"
   ]
  },
  {
   "cell_type": "code",
   "execution_count": 23,
   "metadata": {},
   "outputs": [],
   "source": [
    "df = pd.read_pickle(\"../data/02_geotweets_labeled_ee.pkl\")"
   ]
  },
  {
   "cell_type": "code",
   "execution_count": 24,
   "metadata": {},
   "outputs": [],
   "source": [
    "# df.head()"
   ]
  },
  {
   "cell_type": "code",
   "execution_count": 25,
   "metadata": {},
   "outputs": [],
   "source": [
    "df['time_bin'] = BinTime(df.date.dt.floor('min'))"
   ]
  },
  {
   "cell_type": "code",
   "execution_count": 26,
   "metadata": {},
   "outputs": [],
   "source": [
    "# df.head()"
   ]
  },
  {
   "cell_type": "code",
   "execution_count": 27,
   "metadata": {},
   "outputs": [],
   "source": [
    "df = df.reset_index(drop=True)\n",
    "# df.head()"
   ]
  },
  {
   "cell_type": "code",
   "execution_count": 28,
   "metadata": {},
   "outputs": [],
   "source": [
    "# Localize time bin (remove comparison to UTC)\n",
    "\n",
    "time_bin = []\n",
    "for i in range(0, len(df)):\n",
    "    bn = df.iloc[i].time_bin.tz_convert(None) + pd.Timedelta(-4,'h')\n",
    "    time_bin.append(bn)\n",
    "\n",
    "df['time_bin'] = time_bin"
   ]
  },
  {
   "cell_type": "code",
   "execution_count": 29,
   "metadata": {
    "scrolled": true
   },
   "outputs": [
    {
     "data": {
      "text/html": [
       "<div>\n",
       "<style scoped>\n",
       "    .dataframe tbody tr th:only-of-type {\n",
       "        vertical-align: middle;\n",
       "    }\n",
       "\n",
       "    .dataframe tbody tr th {\n",
       "        vertical-align: top;\n",
       "    }\n",
       "\n",
       "    .dataframe thead th {\n",
       "        text-align: right;\n",
       "    }\n",
       "</style>\n",
       "<table border=\"1\" class=\"dataframe\">\n",
       "  <thead>\n",
       "    <tr style=\"text-align: right;\">\n",
       "      <th></th>\n",
       "      <th>date</th>\n",
       "      <th>text</th>\n",
       "      <th>username</th>\n",
       "      <th>day_of_week</th>\n",
       "      <th>hour</th>\n",
       "      <th>safe</th>\n",
       "      <th>time_bin</th>\n",
       "    </tr>\n",
       "  </thead>\n",
       "  <tbody>\n",
       "    <tr>\n",
       "      <th>0</th>\n",
       "      <td>2020-03-23 14:10:14-04:00</td>\n",
       "      <td>𝐐𝐔𝐄𝐒𝐓𝐈𝐎𝐍 | Are you moving for thirty minutes e...</td>\n",
       "      <td>lifenleggings</td>\n",
       "      <td>Monday</td>\n",
       "      <td>14</td>\n",
       "      <td>2</td>\n",
       "      <td>2020-03-23 14:05:00</td>\n",
       "    </tr>\n",
       "    <tr>\n",
       "      <th>1</th>\n",
       "      <td>2020-03-23 15:03:32-04:00</td>\n",
       "      <td>#newnormal Day 8 Oh dayum, did Governor #andre...</td>\n",
       "      <td>miles_randy</td>\n",
       "      <td>Monday</td>\n",
       "      <td>15</td>\n",
       "      <td>1</td>\n",
       "      <td>2020-03-23 14:50:00</td>\n",
       "    </tr>\n",
       "    <tr>\n",
       "      <th>2</th>\n",
       "      <td>2020-03-23 18:14:17-04:00</td>\n",
       "      <td>#isolation #prospectpark #prospectparkalliance...</td>\n",
       "      <td>andrewbwhite1</td>\n",
       "      <td>Monday</td>\n",
       "      <td>18</td>\n",
       "      <td>2</td>\n",
       "      <td>2020-03-23 18:05:00</td>\n",
       "    </tr>\n",
       "    <tr>\n",
       "      <th>3</th>\n",
       "      <td>2020-03-23 18:15:25-04:00</td>\n",
       "      <td>#isolation #prospectpark #fishing #prospectpar...</td>\n",
       "      <td>andrewbwhite1</td>\n",
       "      <td>Monday</td>\n",
       "      <td>18</td>\n",
       "      <td>2</td>\n",
       "      <td>2020-03-23 18:05:00</td>\n",
       "    </tr>\n",
       "    <tr>\n",
       "      <th>4</th>\n",
       "      <td>2020-03-23 18:17:12-04:00</td>\n",
       "      <td>#isolation #prospectpark #prospectparkalliance...</td>\n",
       "      <td>andrewbwhite1</td>\n",
       "      <td>Monday</td>\n",
       "      <td>18</td>\n",
       "      <td>2</td>\n",
       "      <td>2020-03-23 18:05:00</td>\n",
       "    </tr>\n",
       "  </tbody>\n",
       "</table>\n",
       "</div>"
      ],
      "text/plain": [
       "                       date  \\\n",
       "0 2020-03-23 14:10:14-04:00   \n",
       "1 2020-03-23 15:03:32-04:00   \n",
       "2 2020-03-23 18:14:17-04:00   \n",
       "3 2020-03-23 18:15:25-04:00   \n",
       "4 2020-03-23 18:17:12-04:00   \n",
       "\n",
       "                                                text       username  \\\n",
       "0  𝐐𝐔𝐄𝐒𝐓𝐈𝐎𝐍 | Are you moving for thirty minutes e...  lifenleggings   \n",
       "1  #newnormal Day 8 Oh dayum, did Governor #andre...    miles_randy   \n",
       "2  #isolation #prospectpark #prospectparkalliance...  andrewbwhite1   \n",
       "3  #isolation #prospectpark #fishing #prospectpar...  andrewbwhite1   \n",
       "4  #isolation #prospectpark #prospectparkalliance...  andrewbwhite1   \n",
       "\n",
       "  day_of_week  hour  safe            time_bin  \n",
       "0      Monday    14     2 2020-03-23 14:05:00  \n",
       "1      Monday    15     1 2020-03-23 14:50:00  \n",
       "2      Monday    18     2 2020-03-23 18:05:00  \n",
       "3      Monday    18     2 2020-03-23 18:05:00  \n",
       "4      Monday    18     2 2020-03-23 18:05:00  "
      ]
     },
     "execution_count": 29,
     "metadata": {},
     "output_type": "execute_result"
    }
   ],
   "source": [
    "df.head()"
   ]
  },
  {
   "cell_type": "code",
   "execution_count": 30,
   "metadata": {},
   "outputs": [
    {
     "data": {
      "text/plain": [
       "364"
      ]
     },
     "execution_count": 30,
     "metadata": {},
     "output_type": "execute_result"
    }
   ],
   "source": [
    "len(df)"
   ]
  },
  {
   "cell_type": "code",
   "execution_count": 10,
   "metadata": {},
   "outputs": [],
   "source": [
    "df.to_pickle(\"../data/02_geotweets_labeled_binned_ee.pkl\")"
   ]
  }
 ],
 "metadata": {
  "kernelspec": {
   "display_name": "Python 3",
   "language": "python",
   "name": "python3"
  },
  "language_info": {
   "codemirror_mode": {
    "name": "ipython",
    "version": 3
   },
   "file_extension": ".py",
   "mimetype": "text/x-python",
   "name": "python",
   "nbconvert_exporter": "python",
   "pygments_lexer": "ipython3",
   "version": "3.7.4"
  }
 },
 "nbformat": 4,
 "nbformat_minor": 2
}
