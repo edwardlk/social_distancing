{
 "cells": [
  {
   "cell_type": "markdown",
   "metadata": {},
   "source": [
    "## Obtain tweets geotagged to Prospect Park starting January 2020"
   ]
  },
  {
   "cell_type": "code",
   "execution_count": 1,
   "metadata": {},
   "outputs": [],
   "source": [
    "# Import necessary modules\n",
    "import pandas as pd\n",
    "import numpy as np\n",
    "import tweepy\n",
    "import time"
   ]
  },
  {
   "cell_type": "markdown",
   "metadata": {},
   "source": [
    "### Write dict of strings defining non-overlapping circles that \"partition\" Prospect Park"
   ]
  },
  {
   "cell_type": "code",
   "execution_count": 2,
   "metadata": {},
   "outputs": [],
   "source": [
    "# Tweepy's search function only allows you to search circular areas. \n",
    "# So to obtain all and only the tweets published from within Prospect Park, \n",
    "# we \"partition\" the park into many disjoint circles, not including\n",
    "# Grand Army Plaza greenmarket, the Brooklyn Botanical Garden, or the Parade\n",
    "# Grounds. (Not a true partition since the tiny areas between the circles \n",
    "# are left out.)\n",
    "\n",
    "import re\n",
    "import numpy as np\n",
    "\n",
    "# We use the tool at the following URL to partition the park. \n",
    "# Note that the centers and radii of our partition circles can conveniently \n",
    "# be obtained from the URL! \n",
    "url = \"https://www.mapdevelopers.com/draw-circle-tool.php?circles=%5B%5B502.02%2C40.664381%2C-73.9699879%2C%22%23AAAAAA%22%2C%22%23000000%22%2C0.4%5D%2C%5B362.14%2C40.655873%2C-73.968789%2C%22%23AAAAAA%22%2C%22%23000000%22%2C0.4%5D%2C%5B154.29%2C40.6590246%2C-73.9642525%2C%22%23AAAAAA%22%2C%22%23000000%22%2C0.4%5D%2C%5B160.93%2C40.6614359%2C-73.9771982%2C%22%23AAAAAA%22%2C%22%23000000%22%2C0.4%5D%2C%5B112.92%2C40.6597918%2C-73.9748271%2C%22%23AAAAAA%22%2C%22%23000000%22%2C0.4%5D%2C%5B92.51%2C40.6583267%2C-73.9731641%2C%22%23AAAAAA%22%2C%22%23000000%22%2C0.4%5D%2C%5B100.18%2C40.6568699%2C-73.9633579%2C%22%23AAAAAA%22%2C%22%23000000%22%2C0.4%5D%2C%5B79.35%2C40.6552887%2C-73.9628255%2C%22%23AAAAAA%22%2C%22%23000000%22%2C0.4%5D%2C%5B98.59%2C40.6521246%2C-73.9713724%2C%22%23AAAAAA%22%2C%22%23000000%22%2C0.4%5D%2C%5B131.2%2C40.6709736%2C-73.9697845%2C%22%23AAAAAA%22%2C%22%23000000%22%2C0.4%5D%2C%5B83.46%2C40.6694346%2C-73.9682861%2C%22%23AAAAAA%22%2C%22%23000000%22%2C0.4%5D%2C%5B88.13%2C40.6695266%2C-73.9715369%2C%22%23AAAAAA%22%2C%22%23000000%22%2C0.4%5D%2C%5B69.6%2C40.6634627%2C-73.9766691%2C%22%23AAAAAA%22%2C%22%23000000%22%2C0.4%5D%2C%5B82.06%2C40.6592781%2C-73.971593%2C%22%23AAAAAA%22%2C%22%23000000%22%2C0.4%5D%2C%5B69.6%2C40.6632254%2C-73.9633747%2C%22%23AAAAAA%22%2C%22%23000000%22%2C0.4%5D%2C%5B64.37%2C40.6620616%2C-73.9640184%2C%22%23AAAAAA%22%2C%22%23000000%22%2C0.4%5D%2C%5B64.37%2C40.6610035%2C-73.9646407%2C%22%23AAAAAA%22%2C%22%23000000%22%2C0.4%5D%2C%5B48.07%2C40.6607268%2C-73.9633962%2C%22%23AAAAAA%22%2C%22%23000000%22%2C0.4%5D%2C%5B54.44%2C40.6545443%2C-73.9641562%2C%22%23AAAAAA%22%2C%22%23000000%22%2C0.4%5D%2C%5B41.03%2C40.6523385%2C-73.9697245%2C%22%23AAAAAA%22%2C%22%23000000%22%2C0.4%5D%2C%5B53.72%2C40.6532772%2C-73.9723029%2C%22%23AAAAAA%22%2C%22%23000000%22%2C0.4%5D%2C%5B48.28%2C40.6570506%2C-73.9733757%2C%22%23AAAAAA%22%2C%22%23000000%22%2C0.4%5D%2C%5B48.28%2C40.6599112%2C-73.9729307%2C%22%23AAAAAA%22%2C%22%23000000%22%2C0.4%5D%2C%5B42.84%2C40.6595286%2C-73.9690469%2C%22%23AAAAAA%22%2C%22%23000000%22%2C0.4%5D%2C%5B39.22%2C40.6644199%2C-73.9764176%2C%22%23AAAAAA%22%2C%22%23000000%22%2C0.4%5D%2C%5B48.28%2C40.6554667%2C-73.9643161%2C%22%23AAAAAA%22%2C%22%23000000%22%2C0.4%5D%2C%5B48.28%2C40.6592242%2C-73.9666618%2C%22%23AAAAAA%22%2C%22%23000000%22%2C0.4%5D%2C%5B48.28%2C40.6693261%2C-73.969892%2C%22%23AAAAAA%22%2C%22%23000000%22%2C0.4%5D%2C%5B42.84%2C40.6688134%2C-73.972778%2C%22%23AAAAAA%22%2C%22%23000000%22%2C0.4%5D%2C%5B45.56%2C40.6687565%2C-73.9670274%2C%22%23AAAAAA%22%2C%22%23000000%22%2C0.4%5D%2C%5B29.26%2C40.6704409%2C-73.9680252%2C%22%23AAAAAA%22%2C%22%23000000%22%2C0.4%5D%2C%5B24.03%2C40.6705549%2C-73.9715228%2C%22%23AAAAAA%22%2C%22%23000000%22%2C0.4%5D%2C%5B32.19%2C40.6640906%2C-73.9636425%2C%22%23AAAAAA%22%2C%22%23000000%22%2C0.4%5D%2C%5B21.32%2C40.6648348%2C-73.9638249%2C%22%23AAAAAA%22%2C%22%23000000%22%2C0.4%5D%2C%5B19.54%2C40.6547593%2C-73.9730587%2C%22%23AAAAAA%22%2C%22%23000000%22%2C0.4%5D%2C%5B16.09%2C40.6575064%2C-73.9738755%2C%22%23AAAAAA%22%2C%22%23000000%22%2C0.4%5D%2C%5B26.06%2C40.6596598%2C-73.976497%2C%22%23AAAAAA%22%2C%22%23000000%22%2C0.4%5D%2C%5B22.22%2C40.6611419%2C-73.9793515%2C%22%23AAAAAA%22%2C%22%23000000%22%2C0.4%5D%2C%5B16.09%2C40.6633706%2C-73.9777464%2C%22%23AAAAAA%22%2C%22%23000000%22%2C0.4%5D%2C%5B18.81%2C40.6654976%2C-73.9760047%2C%22%23AAAAAA%22%2C%22%23000000%22%2C0.4%5D%2C%5B23.34%2C40.6681528%2C-73.9737409%2C%22%23AAAAAA%22%2C%22%23000000%22%2C0.4%5D%2C%5B21.53%2C40.6540927%2C-73.9648659%2C%22%23AAAAAA%22%2C%22%23000000%22%2C0.4%5D%2C%5B16.09%2C40.6526519%2C-73.972537%2C%22%23AAAAAA%22%2C%22%23000000%22%2C0.4%5D%2C%5B34.69%2C40.6604114%2C-73.9655446%2C%22%23AAAAAA%22%2C%22%23000000%22%2C0.4%5D%2C%5B42.15%2C40.6594319%2C-73.9700899%2C%22%23AAAAAA%22%2C%22%23000000%22%2C0.4%5D%2C%5B48.28%2C40.6596598%2C-73.9679227%2C%22%23AAAAAA%22%2C%22%23000000%22%2C0.4%5D%2C%5B39.22%2C40.6611899%2C-73.9748213%2C%22%23AAAAAA%22%2C%22%23000000%22%2C0.4%5D%2C%5B27.2%2C40.6574391%2C-73.9646728%2C%22%23AAAAAA%22%2C%22%23000000%22%2C0.4%5D%2C%5B21.31%2C40.6578827%2C-73.9628221%2C%22%23AAAAAA%22%\"\n",
    "\n",
    "centers = re.findall(\"%5B\\d+\\.\\d+%2C(\\d+\\.\\d+)%2C(-\\d+\\.\\d+)%2C\",url)\n",
    "radii = re.findall(\"%5B(\\d+\\.\\d+)%2C\\d+\\.\\d+%2C-\\d+\\.\\d+%2C\",url)\n",
    "\n",
    "for i in range(0,len(radii)):\n",
    "    radii[i] = str(np.round(float(radii[i])/1000,5)) + 'km'"
   ]
  },
  {
   "cell_type": "markdown",
   "metadata": {},
   "source": [
    "### Create and save a single master dataframe consisting of all the tweets \n",
    "### from Prospect Park since March 1, 2020"
   ]
  },
  {
   "cell_type": "code",
   "execution_count": 3,
   "metadata": {},
   "outputs": [],
   "source": [
    "import GetOldTweets3 as got\n",
    "import datetime as dt\n",
    "import numpy as np"
   ]
  },
  {
   "cell_type": "code",
   "execution_count": 4,
   "metadata": {},
   "outputs": [],
   "source": [
    "today = dt.datetime.now().strftime(\"%Y-%m-%d\")"
   ]
  },
  {
   "cell_type": "code",
   "execution_count": 5,
   "metadata": {},
   "outputs": [],
   "source": [
    "# Store the properties that we use to specify which tweets we are seeking as our request's tweet criteria\n",
    "\n",
    "criteria = {}\n",
    "\n",
    "# For each circle i, record tweet criteria for requesting all tweets published within circle i\n",
    "for i in range(0,26):\n",
    "    \n",
    "    criteria[i] = got.manager.TweetCriteria().setSince(\"2020-01-01\")\\\n",
    "                                               .setUntil(today)\\\n",
    "                                               .setNear(centers[i][0]+','+centers[i][1])\\\n",
    "                                               .setWithin(radii[i])"
   ]
  },
  {
   "cell_type": "code",
   "execution_count": 6,
   "metadata": {},
   "outputs": [],
   "source": [
    "# Initialize an empty dict: tweets. For each circle i, tweets[i] will contain all \n",
    "# tweets published within circle i since January 1, 2020.\n",
    "\n",
    "tweets = {}\n",
    "\n",
    "# Request the tweets and store them in a list: tweets[i]\n",
    "for i in range(0,26):\n",
    "    tweets[i] = got.manager.TweetManager.getTweets(criteria[i])"
   ]
  },
  {
   "cell_type": "code",
   "execution_count": 7,
   "metadata": {
    "scrolled": true
   },
   "outputs": [],
   "source": [
    "# Build a dataframe out of all of our tweets\n",
    "\n",
    "# We will need to convert the timezone to EST (it is UTC by default)\n",
    "import pytz\n",
    "est = pytz.timezone('US/Eastern')\n",
    "\n",
    "# Initialize empty columns\n",
    "dates = []\n",
    "texts = []\n",
    "users = []\n",
    "\n",
    "for i in range(0,26):\n",
    "    for j in range(0,len(tweets[i])):\n",
    "            dates.append(tweets[i][j].date.astimezone(tz= est))\n",
    "            # If we want dates to be more human parseable, add: .strftime(\"%Y-%m-%d %H:%M:%S\")\n",
    "            texts.append(tweets[i][j].text)\n",
    "            users.append(tweets[i][j].username)"
   ]
  },
  {
   "cell_type": "code",
   "execution_count": 13,
   "metadata": {},
   "outputs": [],
   "source": [
    "# Build a dataframe out of all of our tweets: df\n",
    "data = {'date':dates, 'text':texts, 'username':users}\n",
    "df = pd.DataFrame(data=data)\n",
    "df.date = pd.to_datetime(df.date)\n",
    "\n",
    "# Sort the data by time, but leave date as a column for easy manipulation\n",
    "df = df.set_index('date',drop=False)\n",
    "df = df.sort_index()\n",
    "\n",
    "# Create a column for day of the week\n",
    "df['day_of_week'] = df.date.dt.day_name()\n",
    "\n",
    "# Create a column for the hour\n",
    "df['hour'] = df.date.dt.hour"
   ]
  },
  {
   "cell_type": "code",
   "execution_count": 14,
   "metadata": {},
   "outputs": [
    {
     "name": "stdout",
     "output_type": "stream",
     "text": [
      "<class 'pandas.core.frame.DataFrame'>\n",
      "DatetimeIndex: 954 entries, 2019-12-31 22:00:04-05:00 to 2020-04-19 19:43:09-04:00\n",
      "Data columns (total 5 columns):\n",
      "date           954 non-null datetime64[ns, US/Eastern]\n",
      "text           954 non-null object\n",
      "username       954 non-null object\n",
      "day_of_week    954 non-null object\n",
      "hour           954 non-null int64\n",
      "dtypes: datetime64[ns, US/Eastern](1), int64(1), object(3)\n",
      "memory usage: 84.7+ KB\n"
     ]
    }
   ],
   "source": [
    "# df.info()"
   ]
  },
  {
   "cell_type": "code",
   "execution_count": 15,
   "metadata": {},
   "outputs": [
    {
     "data": {
      "text/html": [
       "<div>\n",
       "<style scoped>\n",
       "    .dataframe tbody tr th:only-of-type {\n",
       "        vertical-align: middle;\n",
       "    }\n",
       "\n",
       "    .dataframe tbody tr th {\n",
       "        vertical-align: top;\n",
       "    }\n",
       "\n",
       "    .dataframe thead th {\n",
       "        text-align: right;\n",
       "    }\n",
       "</style>\n",
       "<table border=\"1\" class=\"dataframe\">\n",
       "  <thead>\n",
       "    <tr style=\"text-align: right;\">\n",
       "      <th></th>\n",
       "      <th>date</th>\n",
       "      <th>text</th>\n",
       "      <th>username</th>\n",
       "      <th>day_of_week</th>\n",
       "      <th>hour</th>\n",
       "    </tr>\n",
       "    <tr>\n",
       "      <th>date</th>\n",
       "      <th></th>\n",
       "      <th></th>\n",
       "      <th></th>\n",
       "      <th></th>\n",
       "      <th></th>\n",
       "    </tr>\n",
       "  </thead>\n",
       "  <tbody>\n",
       "    <tr>\n",
       "      <td>2019-12-31 22:00:04-05:00</td>\n",
       "      <td>2019-12-31 22:00:04-05:00</td>\n",
       "      <td>人还很少 #NYE2020 – at Prospect Park</td>\n",
       "      <td>waynesun09</td>\n",
       "      <td>Tuesday</td>\n",
       "      <td>22</td>\n",
       "    </tr>\n",
       "    <tr>\n",
       "      <td>2019-12-31 23:00:44-05:00</td>\n",
       "      <td>2019-12-31 23:00:44-05:00</td>\n",
       "      <td>Baby 出现了，家庭友好的新年庆祝 #NYE2020 #brooklyn #NYC – a...</td>\n",
       "      <td>waynesun09</td>\n",
       "      <td>Tuesday</td>\n",
       "      <td>23</td>\n",
       "    </tr>\n",
       "    <tr>\n",
       "      <td>2019-12-31 23:51:00-05:00</td>\n",
       "      <td>2019-12-31 23:51:00-05:00</td>\n",
       "      <td>\"New Year in Space\" Illo for the Washington Po...</td>\n",
       "      <td>dannyhellman</td>\n",
       "      <td>Tuesday</td>\n",
       "      <td>23</td>\n",
       "    </tr>\n",
       "    <tr>\n",
       "      <td>2019-12-31 23:52:13-05:00</td>\n",
       "      <td>2019-12-31 23:52:13-05:00</td>\n",
       "      <td>\"New Year Countdown\" Illo for NEW YORK PRESS D...</td>\n",
       "      <td>dannyhellman</td>\n",
       "      <td>Tuesday</td>\n",
       "      <td>23</td>\n",
       "    </tr>\n",
       "    <tr>\n",
       "      <td>2020-01-01 00:11:44-05:00</td>\n",
       "      <td>2020-01-01 00:11:44-05:00</td>\n",
       "      <td>2019 再见，2020 新的十年开始。19年还是不错，追求不多所以收获也没多少，只是简单的...</td>\n",
       "      <td>waynesun09</td>\n",
       "      <td>Wednesday</td>\n",
       "      <td>0</td>\n",
       "    </tr>\n",
       "  </tbody>\n",
       "</table>\n",
       "</div>"
      ],
      "text/plain": [
       "                                               date  \\\n",
       "date                                                  \n",
       "2019-12-31 22:00:04-05:00 2019-12-31 22:00:04-05:00   \n",
       "2019-12-31 23:00:44-05:00 2019-12-31 23:00:44-05:00   \n",
       "2019-12-31 23:51:00-05:00 2019-12-31 23:51:00-05:00   \n",
       "2019-12-31 23:52:13-05:00 2019-12-31 23:52:13-05:00   \n",
       "2020-01-01 00:11:44-05:00 2020-01-01 00:11:44-05:00   \n",
       "\n",
       "                                                                        text  \\\n",
       "date                                                                           \n",
       "2019-12-31 22:00:04-05:00                   人还很少 #NYE2020 – at Prospect Park   \n",
       "2019-12-31 23:00:44-05:00  Baby 出现了，家庭友好的新年庆祝 #NYE2020 #brooklyn #NYC – a...   \n",
       "2019-12-31 23:51:00-05:00  \"New Year in Space\" Illo for the Washington Po...   \n",
       "2019-12-31 23:52:13-05:00  \"New Year Countdown\" Illo for NEW YORK PRESS D...   \n",
       "2020-01-01 00:11:44-05:00  2019 再见，2020 新的十年开始。19年还是不错，追求不多所以收获也没多少，只是简单的...   \n",
       "\n",
       "                               username day_of_week  hour  \n",
       "date                                                       \n",
       "2019-12-31 22:00:04-05:00    waynesun09     Tuesday    22  \n",
       "2019-12-31 23:00:44-05:00    waynesun09     Tuesday    23  \n",
       "2019-12-31 23:51:00-05:00  dannyhellman     Tuesday    23  \n",
       "2019-12-31 23:52:13-05:00  dannyhellman     Tuesday    23  \n",
       "2020-01-01 00:11:44-05:00    waynesun09   Wednesday     0  "
      ]
     },
     "execution_count": 15,
     "metadata": {},
     "output_type": "execute_result"
    }
   ],
   "source": [
    "# df.head()"
   ]
  },
  {
   "cell_type": "code",
   "execution_count": 16,
   "metadata": {},
   "outputs": [
    {
     "data": {
      "text/html": [
       "<div>\n",
       "<style scoped>\n",
       "    .dataframe tbody tr th:only-of-type {\n",
       "        vertical-align: middle;\n",
       "    }\n",
       "\n",
       "    .dataframe tbody tr th {\n",
       "        vertical-align: top;\n",
       "    }\n",
       "\n",
       "    .dataframe thead th {\n",
       "        text-align: right;\n",
       "    }\n",
       "</style>\n",
       "<table border=\"1\" class=\"dataframe\">\n",
       "  <thead>\n",
       "    <tr style=\"text-align: right;\">\n",
       "      <th></th>\n",
       "      <th>date</th>\n",
       "      <th>text</th>\n",
       "      <th>username</th>\n",
       "      <th>day_of_week</th>\n",
       "      <th>hour</th>\n",
       "    </tr>\n",
       "    <tr>\n",
       "      <th>date</th>\n",
       "      <th></th>\n",
       "      <th></th>\n",
       "      <th></th>\n",
       "      <th></th>\n",
       "      <th></th>\n",
       "    </tr>\n",
       "  </thead>\n",
       "  <tbody>\n",
       "    <tr>\n",
       "      <td>2020-04-19 17:43:40-04:00</td>\n",
       "      <td>2020-04-19 17:43:40-04:00</td>\n",
       "      <td>Masked humans gathered at the zoo fence in Pro...</td>\n",
       "      <td>hodgman</td>\n",
       "      <td>Sunday</td>\n",
       "      <td>17</td>\n",
       "    </tr>\n",
       "    <tr>\n",
       "      <td>2020-04-19 18:31:43-04:00</td>\n",
       "      <td>2020-04-19 18:31:43-04:00</td>\n",
       "      <td>1) My walk through #ProspectPark earlier today...</td>\n",
       "      <td>barbarajchin</td>\n",
       "      <td>Sunday</td>\n",
       "      <td>18</td>\n",
       "    </tr>\n",
       "    <tr>\n",
       "      <td>2020-04-19 18:41:44-04:00</td>\n",
       "      <td>2020-04-19 18:41:44-04:00</td>\n",
       "      <td>How is this a resting position? #birdyoga #vir...</td>\n",
       "      <td>nycregoddess</td>\n",
       "      <td>Sunday</td>\n",
       "      <td>18</td>\n",
       "    </tr>\n",
       "    <tr>\n",
       "      <td>2020-04-19 18:58:09-04:00</td>\n",
       "      <td>2020-04-19 18:58:09-04:00</td>\n",
       "      <td>Break time</td>\n",
       "      <td>acadte</td>\n",
       "      <td>Sunday</td>\n",
       "      <td>18</td>\n",
       "    </tr>\n",
       "    <tr>\n",
       "      <td>2020-04-19 19:43:09-04:00</td>\n",
       "      <td>2020-04-19 19:43:09-04:00</td>\n",
       "      <td>A walk in #prospectpark @Prospect Park https:/...</td>\n",
       "      <td>bornmw</td>\n",
       "      <td>Sunday</td>\n",
       "      <td>19</td>\n",
       "    </tr>\n",
       "  </tbody>\n",
       "</table>\n",
       "</div>"
      ],
      "text/plain": [
       "                                               date  \\\n",
       "date                                                  \n",
       "2020-04-19 17:43:40-04:00 2020-04-19 17:43:40-04:00   \n",
       "2020-04-19 18:31:43-04:00 2020-04-19 18:31:43-04:00   \n",
       "2020-04-19 18:41:44-04:00 2020-04-19 18:41:44-04:00   \n",
       "2020-04-19 18:58:09-04:00 2020-04-19 18:58:09-04:00   \n",
       "2020-04-19 19:43:09-04:00 2020-04-19 19:43:09-04:00   \n",
       "\n",
       "                                                                        text  \\\n",
       "date                                                                           \n",
       "2020-04-19 17:43:40-04:00  Masked humans gathered at the zoo fence in Pro...   \n",
       "2020-04-19 18:31:43-04:00  1) My walk through #ProspectPark earlier today...   \n",
       "2020-04-19 18:41:44-04:00  How is this a resting position? #birdyoga #vir...   \n",
       "2020-04-19 18:58:09-04:00                                        Break time    \n",
       "2020-04-19 19:43:09-04:00  A walk in #prospectpark @Prospect Park https:/...   \n",
       "\n",
       "                               username day_of_week  hour  \n",
       "date                                                       \n",
       "2020-04-19 17:43:40-04:00       hodgman      Sunday    17  \n",
       "2020-04-19 18:31:43-04:00  barbarajchin      Sunday    18  \n",
       "2020-04-19 18:41:44-04:00  nycregoddess      Sunday    18  \n",
       "2020-04-19 18:58:09-04:00        acadte      Sunday    18  \n",
       "2020-04-19 19:43:09-04:00        bornmw      Sunday    19  "
      ]
     },
     "execution_count": 16,
     "metadata": {},
     "output_type": "execute_result"
    }
   ],
   "source": [
    "# df.tail()"
   ]
  },
  {
   "cell_type": "code",
   "execution_count": 17,
   "metadata": {},
   "outputs": [],
   "source": [
    "# Save what we have so far before we do anything to it\n",
    "df.to_pickle(path=\"../data/01_geotweets_raw_ee.pkl\")"
   ]
  }
 ],
 "metadata": {
  "kernelspec": {
   "display_name": "Python 3",
   "language": "python",
   "name": "python3"
  },
  "language_info": {
   "codemirror_mode": {
    "name": "ipython",
    "version": 3
   },
   "file_extension": ".py",
   "mimetype": "text/x-python",
   "name": "python",
   "nbconvert_exporter": "python",
   "pygments_lexer": "ipython3",
   "version": "3.7.4"
  }
 },
 "nbformat": 4,
 "nbformat_minor": 2
}
