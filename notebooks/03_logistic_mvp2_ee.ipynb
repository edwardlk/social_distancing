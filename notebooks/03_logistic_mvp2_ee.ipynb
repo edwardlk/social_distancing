{
 "cells": [
  {
   "cell_type": "markdown",
   "metadata": {},
   "source": [
    "## Fit & Validate A Logistic Regression and Generate Related Visualizations"
   ]
  },
  {
   "cell_type": "code",
   "execution_count": 1,
   "metadata": {},
   "outputs": [],
   "source": [
    "import pandas as pd\n",
    "import numpy as np\n",
    "from sklearn.preprocessing import StandardScaler\n",
    "from sklearn.linear_model import LogisticRegression\n",
    "from sklearn.model_selection import train_test_split\n",
    "from sklearn.metrics import accuracy_score, precision_score, recall_score, roc_auc_score, auc, roc_curve"
   ]
  },
  {
   "cell_type": "code",
   "execution_count": 2,
   "metadata": {},
   "outputs": [],
   "source": [
    "df = pd.read_csv(\"../data/df_mvp.csv\")"
   ]
  },
  {
   "cell_type": "code",
   "execution_count": 5,
   "metadata": {},
   "outputs": [
    {
     "data": {
      "text/html": [
       "<div>\n",
       "<style scoped>\n",
       "    .dataframe tbody tr th:only-of-type {\n",
       "        vertical-align: middle;\n",
       "    }\n",
       "\n",
       "    .dataframe tbody tr th {\n",
       "        vertical-align: top;\n",
       "    }\n",
       "\n",
       "    .dataframe thead th {\n",
       "        text-align: right;\n",
       "    }\n",
       "</style>\n",
       "<table border=\"1\" class=\"dataframe\">\n",
       "  <thead>\n",
       "    <tr style=\"text-align: right;\">\n",
       "      <th></th>\n",
       "      <th>time_bin</th>\n",
       "      <th>label</th>\n",
       "      <th>source</th>\n",
       "      <th>current_popularity</th>\n",
       "      <th>wind_speed</th>\n",
       "      <th>temp</th>\n",
       "      <th>status_good</th>\n",
       "      <th>status_maybe</th>\n",
       "      <th>status_bad</th>\n",
       "      <th>dayofweek</th>\n",
       "      <th>hour</th>\n",
       "    </tr>\n",
       "  </thead>\n",
       "  <tbody>\n",
       "    <tr>\n",
       "      <th>0</th>\n",
       "      <td>2020-03-23 14:35:00</td>\n",
       "      <td>0.0</td>\n",
       "      <td>mis/imp</td>\n",
       "      <td>42.0</td>\n",
       "      <td>26.598094</td>\n",
       "      <td>37.846753</td>\n",
       "      <td>0.0</td>\n",
       "      <td>0.0</td>\n",
       "      <td>1.0</td>\n",
       "      <td>0</td>\n",
       "      <td>14</td>\n",
       "    </tr>\n",
       "    <tr>\n",
       "      <th>1</th>\n",
       "      <td>2020-03-23 14:50:00</td>\n",
       "      <td>0.0</td>\n",
       "      <td>obs</td>\n",
       "      <td>42.0</td>\n",
       "      <td>25.900000</td>\n",
       "      <td>37.940000</td>\n",
       "      <td>0.0</td>\n",
       "      <td>0.0</td>\n",
       "      <td>1.0</td>\n",
       "      <td>0</td>\n",
       "      <td>14</td>\n",
       "    </tr>\n",
       "    <tr>\n",
       "      <th>2</th>\n",
       "      <td>2020-03-23 15:05:00</td>\n",
       "      <td>0.0</td>\n",
       "      <td>mis/imp</td>\n",
       "      <td>43.0</td>\n",
       "      <td>26.427817</td>\n",
       "      <td>38.125302</td>\n",
       "      <td>0.0</td>\n",
       "      <td>0.0</td>\n",
       "      <td>1.0</td>\n",
       "      <td>0</td>\n",
       "      <td>15</td>\n",
       "    </tr>\n",
       "    <tr>\n",
       "      <th>3</th>\n",
       "      <td>2020-03-23 15:20:00</td>\n",
       "      <td>0.0</td>\n",
       "      <td>mis/imp</td>\n",
       "      <td>43.0</td>\n",
       "      <td>28.181545</td>\n",
       "      <td>38.402658</td>\n",
       "      <td>0.0</td>\n",
       "      <td>0.0</td>\n",
       "      <td>1.0</td>\n",
       "      <td>0</td>\n",
       "      <td>15</td>\n",
       "    </tr>\n",
       "    <tr>\n",
       "      <th>4</th>\n",
       "      <td>2020-03-25 12:50:00</td>\n",
       "      <td>0.0</td>\n",
       "      <td>mis/imp</td>\n",
       "      <td>31.0</td>\n",
       "      <td>18.400000</td>\n",
       "      <td>42.080000</td>\n",
       "      <td>1.0</td>\n",
       "      <td>0.0</td>\n",
       "      <td>0.0</td>\n",
       "      <td>2</td>\n",
       "      <td>12</td>\n",
       "    </tr>\n",
       "  </tbody>\n",
       "</table>\n",
       "</div>"
      ],
      "text/plain": [
       "              time_bin  label   source  current_popularity  wind_speed  \\\n",
       "0  2020-03-23 14:35:00    0.0  mis/imp                42.0   26.598094   \n",
       "1  2020-03-23 14:50:00    0.0      obs                42.0   25.900000   \n",
       "2  2020-03-23 15:05:00    0.0  mis/imp                43.0   26.427817   \n",
       "3  2020-03-23 15:20:00    0.0  mis/imp                43.0   28.181545   \n",
       "4  2020-03-25 12:50:00    0.0  mis/imp                31.0   18.400000   \n",
       "\n",
       "        temp  status_good  status_maybe  status_bad  dayofweek  hour  \n",
       "0  37.846753          0.0           0.0         1.0          0    14  \n",
       "1  37.940000          0.0           0.0         1.0          0    14  \n",
       "2  38.125302          0.0           0.0         1.0          0    15  \n",
       "3  38.402658          0.0           0.0         1.0          0    15  \n",
       "4  42.080000          1.0           0.0         0.0          2    12  "
      ]
     },
     "execution_count": 5,
     "metadata": {},
     "output_type": "execute_result"
    }
   ],
   "source": [
    "df.head()"
   ]
  },
  {
   "cell_type": "markdown",
   "metadata": {},
   "source": [
    "### Generate a correlation plot to test for predictor multicollinearity & remove multicollinear variables"
   ]
  },
  {
   "cell_type": "code",
   "execution_count": 3,
   "metadata": {},
   "outputs": [],
   "source": [
    "import seaborn as sns \n",
    "\n",
    "corr = df.corr()\n",
    "ax = sns.heatmap(\n",
    "    corr, \n",
    "    vmin=-1, vmax=1, center=0,\n",
    "    cmap=sns.diverging_palette(20, 220, n=200),\n",
    "    square=True\n",
    ")\n",
    "ax.set_xticklabels(\n",
    "    ax.get_xticklabels(),\n",
    "    rotation=45,\n",
    "    horizontalalignment='right'\n",
    ")\n",
    "ax.set_title(\"Predictor Correlations\")\n",
    "fig = ax.get_figure()\n",
    "fig.savefig(\"../src/d06_visuals/modeling_logistic_correlation_plot.png\", dpi=300, bbox_inches='tight')\n",
    "# fig.show()"
   ]
  },
  {
   "cell_type": "markdown",
   "metadata": {},
   "source": [
    "#### Since status_maybe is highly collinear with status_good, we will remove status_maybe."
   ]
  },
  {
   "cell_type": "code",
   "execution_count": 4,
   "metadata": {},
   "outputs": [],
   "source": [
    "# Get just the unprocessed predictor columns\n",
    "pred = df.drop(['label','time_bin','source','status_maybe'],axis=1)\n",
    "\n",
    "# Standardize the predictors\n",
    "scaler = StandardScaler()\n",
    "scaler.fit(pred)\n",
    "\n",
    "# # Define the predictors that we will train on\n",
    "X = scaler.transform(pred)\n",
    "\n",
    "# Save the response variable separately\n",
    "y = df.label"
   ]
  },
  {
   "cell_type": "code",
   "execution_count": 5,
   "metadata": {},
   "outputs": [],
   "source": [
    "# Split the training from the test data\n",
    "X_train, X_test, y_train, y_test = train_test_split(X, y, test_size=0.2, random_state=42)"
   ]
  },
  {
   "cell_type": "code",
   "execution_count": 6,
   "metadata": {},
   "outputs": [
    {
     "name": "stderr",
     "output_type": "stream",
     "text": [
      "/home/eric/anaconda3/lib/python3.7/site-packages/sklearn/linear_model/logistic.py:432: FutureWarning: Default solver will be changed to 'lbfgs' in 0.22. Specify a solver to silence this warning.\n",
      "  FutureWarning)\n"
     ]
    }
   ],
   "source": [
    "# Initialize our classifier\n",
    "clf = LogisticRegression(random_state=42)\n",
    "\n",
    "# Fit our classifier\n",
    "clf_fit = clf.fit(X_train, y_train)\n",
    "\n",
    "# Validate our classifier\n",
    "y_score = clf_fit.predict(X_test)\n",
    "y_pred_proba = clf_fit.predict_proba(X_test)[:,-1]\n",
    "\n",
    "\n",
    "accuracy = accuracy_score(y_test, y_score)\n",
    "precision = precision_score(y_test, y_score)\n",
    "recall = recall_score(y_test, y_score)\n",
    "false_pos, true_pos, _ = roc_curve(y_test, y_pred_proba, pos_label=1.0)\n",
    "area_under_curve = auc(false_pos,true_pos)\n",
    "\n",
    "f = open(\"../src/d05_reporting/modeling_metrics_logistic\", 'w')\n",
    "f.write(\"accuracy: \"+str(np.round(accuracy,3))+\"\\n\")\n",
    "f.write(\"precision: \"+str(np.round(precision,3))+\"\\n\")\n",
    "f.write(\"recall: \"+str(np.round(recall,3))+\"\\n\")\n",
    "f.write(\"ROC AUC: \"+str(np.round(area_under_curve,3)))\n",
    "f.close()"
   ]
  },
  {
   "cell_type": "code",
   "execution_count": 7,
   "metadata": {},
   "outputs": [
    {
     "data": {
      "image/png": "[encoded data removed]",
      "text/plain": [
       "<Figure size 432x288 with 1 Axes>"
      ]
     },
     "metadata": {},
     "output_type": "display_data"
    }
   ],
   "source": [
    "# Plot ROC curve\n",
    "import matplotlib.pyplot as plt\n",
    "plt.style.use(\"ggplot\")\n",
    "\n",
    "plt.plot(false_pos, true_pos, color='darkorange',\n",
    "label='ROC curve (area = %0.2f)' % area_under_curve)\n",
    "plt.plot([0, 1], [0, 1], color='navy', linestyle='--')\n",
    "plt.xlim([0.0, 1.0])\n",
    "plt.ylim([0.0, 1.05])\n",
    "plt.xlabel('False Positive Rate')\n",
    "plt.ylabel('True Positive Rate')\n",
    "plt.title('ROC Curve for Logistic Classifier')\n",
    "plt.legend(loc=\"lower right\")\n",
    "plt.tight_layout()\n",
    "plt.savefig(\"../src/d06_visuals/modeling_logistic_ROC.png\")\n",
    "#plt.show()"
   ]
  },
  {
   "cell_type": "code",
   "execution_count": 8,
   "metadata": {},
   "outputs": [
    {
     "data": {
      "image/png": "[encoded data removed]",
      "text/plain": [
       "<Figure size 432x288 with 1 Axes>"
      ]
     },
     "metadata": {},
     "output_type": "display_data"
    }
   ],
   "source": [
    "# Plot feature importances\n",
    "col = ['current popularity', 'wind speed', 'temperature', 'weather status: good',\n",
    "       'weather status: bad', 'day of the week', 'hour']\n",
    "\n",
    "def colormap(negative):\n",
    "    ans = []\n",
    "    for i in range(0,len(negative)):\n",
    "        if negative[i] == True:\n",
    "            ans.append('blue')\n",
    "        else:\n",
    "            ans.append('red')\n",
    "    return ans\n",
    "\n",
    "colorname = colormap([clf.coef_[0] < 0][0])\n",
    "\n",
    "xyd = {'variable':col, 'coefficient':abs(clf.coef_[0]), 'negative':colorname}\n",
    "\n",
    "xy = pd.DataFrame(xyd)\n",
    "xy = xy.sort_values('coefficient', ascending = True)\n",
    "\n",
    "bar = plt.barh(width = xy.coefficient, y = xy.variable, color = xy.negative)\n",
    "plt.title(\"Feature Importances: Logistic Classifier\")\n",
    "plt.ylabel(\"Feature\")\n",
    "plt.xlabel(\"Regression Coefficient\")\n",
    "plt.legend(handles=(bar[0],bar[2]),labels=('negative coefficient','positive coefficient'),loc='lower right')\n",
    "# This is a bit of a hack. We exploit the fact that bar[0] happens to\n",
    "# have a negative coefficient and bar[2] happens to have a positive one.\n",
    "txt = \"NOTE: 'weather status: maybe' was excluded due to collinearity with\\n'weather status: good'\"\n",
    "plt.text(0,-3.5,txt)\n",
    "plt.savefig(\"../src/d06_visuals/modeling_logistic_feature_importances.png\", bbox_inches = 'tight')"
   ]
  }
 ],
 "metadata": {
  "kernelspec": {
   "display_name": "Python 3",
   "language": "python",
   "name": "python3"
  },
  "language_info": {
   "codemirror_mode": {
    "name": "ipython",
    "version": 3
   },
   "file_extension": ".py",
   "mimetype": "text/x-python",
   "name": "python",
   "nbconvert_exporter": "python",
   "pygments_lexer": "ipython3",
   "version": "3.7.4"
  }
 },
 "nbformat": 4,
 "nbformat_minor": 2
}
