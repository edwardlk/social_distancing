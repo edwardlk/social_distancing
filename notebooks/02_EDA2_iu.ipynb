{
 "cells": [
  {
   "cell_type": "markdown",
   "metadata": {},
   "source": [
    "## Setup"
   ]
  },
  {
   "cell_type": "code",
   "execution_count": 2,
   "metadata": {},
   "outputs": [],
   "source": [
    "import pandas as pd\n",
    "import os\n",
    "\n",
    "###### DEBUGGING TOOLS:\n",
    "\n",
    "# Change debug_bool to True/False to turn on/off debug prints\n",
    "debug_bool = True\n",
    "def debug_print(*args):\n",
    "    if debug_bool:\n",
    "        print('debug print:', '\\n', *args, '\\n')"
   ]
  },
  {
   "cell_type": "markdown",
   "metadata": {},
   "source": [
    "## Import csv files"
   ]
  },
  {
   "cell_type": "code",
   "execution_count": 3,
   "metadata": {},
   "outputs": [],
   "source": [
    "\n",
    "\n",
    "path_to_data = '../data'\n",
    "\n",
    "\n",
    "\n",
    "def create_filelist(path_to_data):\n",
    "    file_names = [pos for pos in os.listdir(path_to_data) if pos.endswith('.csv')]\n",
    "    debug_print('len of file_names:', len(file_names))\n",
    "    return file_names\n",
    "\n",
    "def build_df(file_names, path_to_data):\n",
    "    for file in file_names\n",
    "    pd.read_csv(\"filename.csv\") \n"
   ]
  }
 ],
 "metadata": {
  "kernelspec": {
   "display_name": "Python 3",
   "language": "python",
   "name": "python3"
  },
  "language_info": {
   "codemirror_mode": {
    "name": "ipython",
    "version": 3
   },
   "file_extension": ".py",
   "mimetype": "text/x-python",
   "name": "python",
   "nbconvert_exporter": "python",
   "pygments_lexer": "ipython3",
   "version": "3.7.4"
  }
 },
 "nbformat": 4,
 "nbformat_minor": 4
}
