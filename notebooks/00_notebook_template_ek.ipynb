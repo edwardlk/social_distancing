{
 "cells": [
  {
   "cell_type": "markdown",
   "metadata": {},
   "source": [
    "## Notebook naming convention:\n",
    "\n",
    "*XX_description_initials.ipynb*\n",
    "\n",
    "Where XX = :\n",
    "- **01**: Data gathering, initial processing, saving to raw data folder\n",
    "- **02**: Data processing & EDA\n",
    "- **03**: Individual model\n",
    "- **04**: Comparing multiple models\n"
   ]
  },
  {
   "cell_type": "code",
   "execution_count": 1,
   "metadata": {},
   "outputs": [],
   "source": [
    "# Import python packages\n",
    "import os\n",
    "import sys\n",
    "import pandas as pd"
   ]
  },
  {
   "cell_type": "code",
   "execution_count": 2,
   "metadata": {},
   "outputs": [],
   "source": [
    "# Add root & src directories to path\n",
    "root_dir = os.path.join(os.getcwd(), '..')\n",
    "src_dir = os.path.join(os.getcwd(), '..', 'src')\n",
    "sys.path.append(root_dir)\n",
    "sys.path.append(src_dir)\n",
    "\n",
    "# Import local secrets & functions\n",
    "from conf.auth_example import api_key\n",
    "from d00_utils.example import print_hello"
   ]
  },
  {
   "cell_type": "code",
   "execution_count": 3,
   "metadata": {},
   "outputs": [
    {
     "name": "stdout",
     "output_type": "stream",
     "text": [
      "KEY_HERE\n"
     ]
    }
   ],
   "source": [
    "print(api_key)"
   ]
  },
  {
   "cell_type": "code",
   "execution_count": 4,
   "metadata": {},
   "outputs": [
    {
     "name": "stdout",
     "output_type": "stream",
     "text": [
      "Hello\n"
     ]
    }
   ],
   "source": [
    "print_hello()"
   ]
  },
  {
   "cell_type": "code",
   "execution_count": 5,
   "metadata": {},
   "outputs": [
    {
     "data": {
      "text/html": [
       "<div>\n",
       "<style scoped>\n",
       "    .dataframe tbody tr th:only-of-type {\n",
       "        vertical-align: middle;\n",
       "    }\n",
       "\n",
       "    .dataframe tbody tr th {\n",
       "        vertical-align: top;\n",
       "    }\n",
       "\n",
       "    .dataframe thead th {\n",
       "        text-align: right;\n",
       "    }\n",
       "</style>\n",
       "<table border=\"1\" class=\"dataframe\">\n",
       "  <thead>\n",
       "    <tr style=\"text-align: right;\">\n",
       "      <th></th>\n",
       "      <th>park_name</th>\n",
       "      <th>reception_time</th>\n",
       "      <th>reference_time</th>\n",
       "      <th>sunrise_time</th>\n",
       "      <th>sunset_time</th>\n",
       "      <th>clouds</th>\n",
       "      <th>rain_1h</th>\n",
       "      <th>snow_1h</th>\n",
       "      <th>wind_speed</th>\n",
       "      <th>wind_deg</th>\n",
       "      <th>humidity</th>\n",
       "      <th>press</th>\n",
       "      <th>temp</th>\n",
       "      <th>temp_feels</th>\n",
       "      <th>temp_max</th>\n",
       "      <th>temp_min</th>\n",
       "      <th>status</th>\n",
       "      <th>detailed_status</th>\n",
       "    </tr>\n",
       "  </thead>\n",
       "  <tbody>\n",
       "    <tr>\n",
       "      <th>0</th>\n",
       "      <td>Prospect Park</td>\n",
       "      <td>1585989513</td>\n",
       "      <td>1585989513</td>\n",
       "      <td>1585996413</td>\n",
       "      <td>1586042608</td>\n",
       "      <td>90</td>\n",
       "      <td>0.25</td>\n",
       "      <td>0</td>\n",
       "      <td>5.1</td>\n",
       "      <td>40</td>\n",
       "      <td>93</td>\n",
       "      <td>1016</td>\n",
       "      <td>46.4</td>\n",
       "      <td>38.7</td>\n",
       "      <td>48.2</td>\n",
       "      <td>44.6</td>\n",
       "      <td>Rain</td>\n",
       "      <td>light rain</td>\n",
       "    </tr>\n",
       "  </tbody>\n",
       "</table>\n",
       "</div>"
      ],
      "text/plain": [
       "       park_name  reception_time  reference_time  sunrise_time  sunset_time  \\\n",
       "0  Prospect Park      1585989513      1585989513    1585996413   1586042608   \n",
       "\n",
       "   clouds  rain_1h  snow_1h  wind_speed  wind_deg  humidity  press  temp  \\\n",
       "0      90     0.25        0         5.1        40        93   1016  46.4   \n",
       "\n",
       "   temp_feels  temp_max  temp_min status detailed_status  \n",
       "0        38.7      48.2      44.6   Rain      light rain  "
      ]
     },
     "execution_count": 5,
     "metadata": {},
     "output_type": "execute_result"
    }
   ],
   "source": [
    "# Load data\n",
    "df = pd.read_csv('../data/example_current_df.csv', index_col=0)\n",
    "df"
   ]
  },
  {
   "cell_type": "code",
   "execution_count": null,
   "metadata": {},
   "outputs": [],
   "source": []
  }
 ],
 "metadata": {
  "kernelspec": {
   "display_name": "Python 3",
   "language": "python",
   "name": "python3"
  },
  "language_info": {
   "codemirror_mode": {
    "name": "ipython",
    "version": 3
   },
   "file_extension": ".py",
   "mimetype": "text/x-python",
   "name": "python",
   "nbconvert_exporter": "python",
   "pygments_lexer": "ipython3",
   "version": "3.7.2"
  }
 },
 "nbformat": 4,
 "nbformat_minor": 4
}
