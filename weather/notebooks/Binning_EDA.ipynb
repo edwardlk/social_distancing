{
 "cells": [
  {
   "cell_type": "code",
   "execution_count": 2,
   "metadata": {},
   "outputs": [],
   "source": [
    "import os\n",
    "import pandas as pd\n",
    "import matplotlib.pyplot as plt\n",
    "\n",
    "from datetime import timedelta"
   ]
  },
  {
   "cell_type": "code",
   "execution_count": 4,
   "metadata": {},
   "outputs": [],
   "source": [
    "weather_dir = os.path.abspath(os.path.join(os.getcwd(), os.pardir))\n",
    "main_dir = os.path.abspath(os.path.join(weather_dir, os.pardir))"
   ]
  },
  {
   "cell_type": "code",
   "execution_count": 5,
   "metadata": {},
   "outputs": [],
   "source": [
    "# Binning funcs from Huayi\n",
    "\n",
    "def binMinute(minute):\n",
    "    '''\n",
    "    Calculate which of the 15min bins the current minute falls in.\n",
    "    The bins are 05, 20, 35, 50. \n",
    "    Current minutes less than 05 belong to bin 50 of the hour before. \n",
    "    '''    \n",
    "    m2q = (minute - 5) / 15\n",
    "    if m2q < 0:\n",
    "        newminute = -10 \n",
    "    elif m2q < 1:\n",
    "        newminute = 5\n",
    "    elif m2q < 2:\n",
    "        newminute = 20\n",
    "    elif m2q < 3:\n",
    "        newminute = 35\n",
    "    elif m2q < 4:\n",
    "        newminute = 50\n",
    "    return newminute       \n",
    "    \n",
    "def BinTime(df_datetime_col):\n",
    "    '''\n",
    "    Take a df column that contains datetime object (df_datetime_col)\n",
    "    Return a new column that contains the binned datetime object\n",
    "    The bins are as defined in binMinute\n",
    "    '''\n",
    "    binned_col= df_datetime_col.apply(\n",
    "        lambda x: x.replace(minute = 0, second = 0) + timedelta(minutes = binMinute(x.minute)))\n",
    "    \n",
    "    return binned_col"
   ]
  },
  {
   "cell_type": "code",
   "execution_count": 6,
   "metadata": {},
   "outputs": [],
   "source": [
    "data_dir = os.path.join(weather_dir, 'test_data')"
   ]
  },
  {
   "cell_type": "code",
   "execution_count": 7,
   "metadata": {},
   "outputs": [],
   "source": [
    "current_log = pd.read_csv(os.path.join(data_dir, 'current_log.csv'), index_col=0)"
   ]
  },
  {
   "cell_type": "code",
   "execution_count": 8,
   "metadata": {},
   "outputs": [],
   "source": [
    "# convert unix times to datetimes\n",
    "times_lst = ['reception_time', 'reference_time', 'sunrise_time', 'sunset_time']\n",
    "\n",
    "tz_correct = 60 * 60 * 4\n",
    "\n",
    "for col_n in ['reception_time', 'reference_time']:\n",
    "    current_log[col_n] = pd.to_datetime(current_log[col_n], unit='s')\n",
    "\n",
    "for col_n in ['sunrise_time', 'sunset_time']:\n",
    "    current_log[col_n] = pd.to_datetime(current_log[col_n] - tz_correct, unit='s')\n"
   ]
  },
  {
   "cell_type": "code",
   "execution_count": 9,
   "metadata": {},
   "outputs": [],
   "source": [
    "current_log['time_bin'] = BinTime(current_log['reception_time'])\n",
    "\n",
    "binned_current_log = pd.concat(\n",
    "    [current_log.groupby(['time_bin']).mean(),\n",
    "     current_log.groupby(['time_bin']).max()[['park_name', 'sunrise_time', 'sunset_time', 'status', 'detailed_status']]],\n",
    "    axis=1, sort=False)\n",
    "\n",
    "# binned_current_log.to_csv(os.path.join(data_dir, 'binned_current_log.csv'))"
   ]
  },
  {
   "cell_type": "code",
   "execution_count": 10,
   "metadata": {},
   "outputs": [
    {
     "data": {
      "text/plain": [
       "<matplotlib.collections.PathCollection at 0xb62dbe0>"
      ]
     },
     "execution_count": 10,
     "metadata": {},
     "output_type": "execute_result"
    },
    {
     "data": {
      "image/png": "[encoded data removed]",
      "text/plain": [
       "<Figure size 1080x216 with 1 Axes>"
      ]
     },
     "metadata": {
      "needs_background": "light"
     },
     "output_type": "display_data"
    }
   ],
   "source": [
    "plt.figure(figsize=(15,3))\n",
    "\n",
    "plt.scatter(binned_current_log.index[:100], binned_current_log.temp_feels[:100])\n",
    "# plt.scatter(binned_current_log.time[:100], bin_int_weather_hist.temperature[:100])"
   ]
  },
  {
   "cell_type": "code",
   "execution_count": 27,
   "metadata": {},
   "outputs": [
    {
     "data": {
      "text/html": [
       "<div>\n",
       "<style scoped>\n",
       "    .dataframe tbody tr th:only-of-type {\n",
       "        vertical-align: middle;\n",
       "    }\n",
       "\n",
       "    .dataframe tbody tr th {\n",
       "        vertical-align: top;\n",
       "    }\n",
       "\n",
       "    .dataframe thead th {\n",
       "        text-align: right;\n",
       "    }\n",
       "</style>\n",
       "<table border=\"1\" class=\"dataframe\">\n",
       "  <thead>\n",
       "    <tr style=\"text-align: right;\">\n",
       "      <th></th>\n",
       "      <th>sunrise_time</th>\n",
       "      <th>sunset_time</th>\n",
       "      <th>clouds</th>\n",
       "      <th>rain_1h</th>\n",
       "      <th>snow_1h</th>\n",
       "      <th>wind_speed</th>\n",
       "      <th>humidity</th>\n",
       "      <th>press</th>\n",
       "      <th>temp_feels</th>\n",
       "    </tr>\n",
       "    <tr>\n",
       "      <th>time_bin</th>\n",
       "      <th></th>\n",
       "      <th></th>\n",
       "      <th></th>\n",
       "      <th></th>\n",
       "      <th></th>\n",
       "      <th></th>\n",
       "      <th></th>\n",
       "      <th></th>\n",
       "      <th></th>\n",
       "    </tr>\n",
       "  </thead>\n",
       "  <tbody>\n",
       "    <tr>\n",
       "      <th>2020-04-04 08:35:00</th>\n",
       "      <td>2020-04-04 06:33:33</td>\n",
       "      <td>2020-04-04 19:23:28</td>\n",
       "      <td>90.0</td>\n",
       "      <td>0.25</td>\n",
       "      <td>0.0</td>\n",
       "      <td>5.10</td>\n",
       "      <td>93.0</td>\n",
       "      <td>1016.0</td>\n",
       "      <td>38.700000</td>\n",
       "    </tr>\n",
       "    <tr>\n",
       "      <th>2020-04-04 08:50:00</th>\n",
       "      <td>2020-04-04 06:33:33</td>\n",
       "      <td>2020-04-04 19:23:28</td>\n",
       "      <td>90.0</td>\n",
       "      <td>0.25</td>\n",
       "      <td>0.0</td>\n",
       "      <td>4.60</td>\n",
       "      <td>93.0</td>\n",
       "      <td>1016.0</td>\n",
       "      <td>39.560000</td>\n",
       "    </tr>\n",
       "    <tr>\n",
       "      <th>2020-04-04 09:05:00</th>\n",
       "      <td>2020-04-04 06:33:33</td>\n",
       "      <td>2020-04-04 19:23:28</td>\n",
       "      <td>90.0</td>\n",
       "      <td>0.00</td>\n",
       "      <td>0.0</td>\n",
       "      <td>4.60</td>\n",
       "      <td>93.0</td>\n",
       "      <td>1016.0</td>\n",
       "      <td>39.670000</td>\n",
       "    </tr>\n",
       "    <tr>\n",
       "      <th>2020-04-04 09:20:00</th>\n",
       "      <td>2020-04-04 06:33:33</td>\n",
       "      <td>2020-04-04 19:23:28</td>\n",
       "      <td>90.0</td>\n",
       "      <td>0.00</td>\n",
       "      <td>0.0</td>\n",
       "      <td>4.35</td>\n",
       "      <td>93.0</td>\n",
       "      <td>1016.0</td>\n",
       "      <td>40.310000</td>\n",
       "    </tr>\n",
       "    <tr>\n",
       "      <th>2020-04-04 09:35:00</th>\n",
       "      <td>2020-04-04 06:33:33</td>\n",
       "      <td>2020-04-04 19:23:28</td>\n",
       "      <td>90.0</td>\n",
       "      <td>0.00</td>\n",
       "      <td>0.0</td>\n",
       "      <td>4.10</td>\n",
       "      <td>93.0</td>\n",
       "      <td>1016.0</td>\n",
       "      <td>40.750000</td>\n",
       "    </tr>\n",
       "    <tr>\n",
       "      <th>...</th>\n",
       "      <td>...</td>\n",
       "      <td>...</td>\n",
       "      <td>...</td>\n",
       "      <td>...</td>\n",
       "      <td>...</td>\n",
       "      <td>...</td>\n",
       "      <td>...</td>\n",
       "      <td>...</td>\n",
       "      <td>...</td>\n",
       "    </tr>\n",
       "    <tr>\n",
       "      <th>2020-04-14 04:05:00</th>\n",
       "      <td>2020-04-14 06:17:43</td>\n",
       "      <td>2020-04-14 19:33:52</td>\n",
       "      <td>40.0</td>\n",
       "      <td>0.00</td>\n",
       "      <td>0.0</td>\n",
       "      <td>9.30</td>\n",
       "      <td>53.0</td>\n",
       "      <td>1015.0</td>\n",
       "      <td>33.150000</td>\n",
       "    </tr>\n",
       "    <tr>\n",
       "      <th>2020-04-14 07:35:00</th>\n",
       "      <td>2020-04-14 06:17:43</td>\n",
       "      <td>2020-04-14 19:33:52</td>\n",
       "      <td>1.0</td>\n",
       "      <td>0.00</td>\n",
       "      <td>0.0</td>\n",
       "      <td>2.10</td>\n",
       "      <td>58.0</td>\n",
       "      <td>1017.0</td>\n",
       "      <td>40.390000</td>\n",
       "    </tr>\n",
       "    <tr>\n",
       "      <th>2020-04-14 07:50:00</th>\n",
       "      <td>2020-04-14 06:17:43</td>\n",
       "      <td>2020-04-14 19:33:52</td>\n",
       "      <td>1.0</td>\n",
       "      <td>0.00</td>\n",
       "      <td>0.0</td>\n",
       "      <td>2.10</td>\n",
       "      <td>58.0</td>\n",
       "      <td>1017.0</td>\n",
       "      <td>40.846667</td>\n",
       "    </tr>\n",
       "    <tr>\n",
       "      <th>2020-04-14 08:05:00</th>\n",
       "      <td>2020-04-14 06:17:43</td>\n",
       "      <td>2020-04-14 19:33:52</td>\n",
       "      <td>1.0</td>\n",
       "      <td>0.00</td>\n",
       "      <td>0.0</td>\n",
       "      <td>2.10</td>\n",
       "      <td>58.0</td>\n",
       "      <td>1017.0</td>\n",
       "      <td>41.126667</td>\n",
       "    </tr>\n",
       "    <tr>\n",
       "      <th>2020-04-14 08:20:00</th>\n",
       "      <td>2020-04-14 06:17:43</td>\n",
       "      <td>2020-04-14 19:33:52</td>\n",
       "      <td>1.0</td>\n",
       "      <td>0.00</td>\n",
       "      <td>0.0</td>\n",
       "      <td>2.10</td>\n",
       "      <td>58.0</td>\n",
       "      <td>1017.0</td>\n",
       "      <td>41.360000</td>\n",
       "    </tr>\n",
       "  </tbody>\n",
       "</table>\n",
       "<p>750 rows × 9 columns</p>\n",
       "</div>"
      ],
      "text/plain": [
       "                           sunrise_time         sunset_time  clouds  rain_1h  \\\n",
       "time_bin                                                                       \n",
       "2020-04-04 08:35:00 2020-04-04 06:33:33 2020-04-04 19:23:28    90.0     0.25   \n",
       "2020-04-04 08:50:00 2020-04-04 06:33:33 2020-04-04 19:23:28    90.0     0.25   \n",
       "2020-04-04 09:05:00 2020-04-04 06:33:33 2020-04-04 19:23:28    90.0     0.00   \n",
       "2020-04-04 09:20:00 2020-04-04 06:33:33 2020-04-04 19:23:28    90.0     0.00   \n",
       "2020-04-04 09:35:00 2020-04-04 06:33:33 2020-04-04 19:23:28    90.0     0.00   \n",
       "...                                 ...                 ...     ...      ...   \n",
       "2020-04-14 04:05:00 2020-04-14 06:17:43 2020-04-14 19:33:52    40.0     0.00   \n",
       "2020-04-14 07:35:00 2020-04-14 06:17:43 2020-04-14 19:33:52     1.0     0.00   \n",
       "2020-04-14 07:50:00 2020-04-14 06:17:43 2020-04-14 19:33:52     1.0     0.00   \n",
       "2020-04-14 08:05:00 2020-04-14 06:17:43 2020-04-14 19:33:52     1.0     0.00   \n",
       "2020-04-14 08:20:00 2020-04-14 06:17:43 2020-04-14 19:33:52     1.0     0.00   \n",
       "\n",
       "                     snow_1h  wind_speed  humidity   press  temp_feels  \n",
       "time_bin                                                                \n",
       "2020-04-04 08:35:00      0.0        5.10      93.0  1016.0   38.700000  \n",
       "2020-04-04 08:50:00      0.0        4.60      93.0  1016.0   39.560000  \n",
       "2020-04-04 09:05:00      0.0        4.60      93.0  1016.0   39.670000  \n",
       "2020-04-04 09:20:00      0.0        4.35      93.0  1016.0   40.310000  \n",
       "2020-04-04 09:35:00      0.0        4.10      93.0  1016.0   40.750000  \n",
       "...                      ...         ...       ...     ...         ...  \n",
       "2020-04-14 04:05:00      0.0        9.30      53.0  1015.0   33.150000  \n",
       "2020-04-14 07:35:00      0.0        2.10      58.0  1017.0   40.390000  \n",
       "2020-04-14 07:50:00      0.0        2.10      58.0  1017.0   40.846667  \n",
       "2020-04-14 08:05:00      0.0        2.10      58.0  1017.0   41.126667  \n",
       "2020-04-14 08:20:00      0.0        2.10      58.0  1017.0   41.360000  \n",
       "\n",
       "[750 rows x 9 columns]"
      ]
     },
     "execution_count": 27,
     "metadata": {},
     "output_type": "execute_result"
    }
   ],
   "source": [
    "binned_current_log[['sunrise_time', 'sunset_time', 'clouds', 'rain_1h', 'snow_1h', 'wind_speed',\n",
    "                    'humidity', 'press', 'temp_feels']]"
   ]
  },
  {
   "cell_type": "code",
   "execution_count": 29,
   "metadata": {},
   "outputs": [
    {
     "data": {
      "text/plain": [
       "time_bin\n",
       "2020-04-04 08:35:00   06:24:57.500000\n",
       "2020-04-04 08:50:00   06:24:57.500000\n",
       "2020-04-04 09:05:00   06:24:57.500000\n",
       "2020-04-04 09:20:00   06:24:57.500000\n",
       "2020-04-04 09:35:00   06:24:57.500000\n",
       "                            ...      \n",
       "2020-04-14 04:05:00   06:38:04.500000\n",
       "2020-04-14 07:35:00   06:38:04.500000\n",
       "2020-04-14 07:50:00   06:38:04.500000\n",
       "2020-04-14 08:05:00   06:38:04.500000\n",
       "2020-04-14 08:20:00   06:38:04.500000\n",
       "Length: 750, dtype: timedelta64[ns]"
      ]
     },
     "execution_count": 29,
     "metadata": {},
     "output_type": "execute_result"
    }
   ],
   "source": [
    "(binned_current_log['sunset_time'] - binned_current_log['sunrise_time']) / 2"
   ]
  },
  {
   "cell_type": "code",
   "execution_count": 41,
   "metadata": {},
   "outputs": [],
   "source": [
    "binned_current_log['peak_time'] = binned_current_log['sunrise_time'] + (binned_current_log['sunset_time'] - binned_current_log['sunrise_time']) / 2"
   ]
  },
  {
   "cell_type": "code",
   "execution_count": 52,
   "metadata": {},
   "outputs": [
    {
     "data": {
      "text/plain": [
       "time_bin\n",
       "2020-04-04 19:20:00   -1 days +17:38:30.500000\n",
       "2020-04-04 19:35:00   -1 days +17:23:30.500000\n",
       "2020-04-04 19:50:00   -1 days +17:08:30.500000\n",
       "2020-04-04 20:05:00   -1 days +16:53:30.500000\n",
       "2020-04-04 20:20:00   -1 days +16:38:30.500000\n",
       "2020-04-04 20:35:00   -1 days +16:23:30.500000\n",
       "2020-04-04 20:50:00   -1 days +16:08:30.500000\n",
       "2020-04-04 21:05:00   -1 days +15:53:30.500000\n",
       "2020-04-04 21:20:00   -1 days +15:38:30.500000\n",
       "2020-04-04 21:35:00   -1 days +15:23:30.500000\n",
       "2020-04-04 21:50:00   -1 days +15:08:30.500000\n",
       "2020-04-04 22:05:00   -1 days +14:53:30.500000\n",
       "2020-04-04 22:20:00   -1 days +14:38:30.500000\n",
       "2020-04-04 22:35:00   -1 days +14:23:30.500000\n",
       "2020-04-04 22:50:00   -1 days +14:08:30.500000\n",
       "2020-04-04 23:05:00   -1 days +13:53:30.500000\n",
       "2020-04-04 23:20:00   -1 days +13:38:30.500000\n",
       "2020-04-04 23:35:00   -1 days +13:23:30.500000\n",
       "2020-04-04 23:50:00                   13:08:13\n",
       "2020-04-05 00:05:00                   12:53:13\n",
       "2020-04-05 00:20:00                   12:38:13\n",
       "2020-04-05 00:35:00                   12:23:13\n",
       "2020-04-05 00:50:00                   12:08:13\n",
       "2020-04-05 01:05:00                   11:53:13\n",
       "2020-04-05 01:20:00                   11:38:13\n",
       "2020-04-05 01:35:00                   11:23:13\n",
       "2020-04-05 01:50:00                   11:08:13\n",
       "2020-04-05 02:05:00                   10:53:13\n",
       "2020-04-05 02:20:00                   10:38:13\n",
       "2020-04-05 02:35:00                   10:23:13\n",
       "2020-04-05 02:50:00                   10:08:13\n",
       "2020-04-05 03:05:00                   09:53:13\n",
       "2020-04-05 03:20:00                   09:38:13\n",
       "2020-04-05 03:35:00                   09:23:13\n",
       "2020-04-05 03:50:00                   09:08:13\n",
       "2020-04-05 04:05:00                   08:53:13\n",
       "2020-04-05 04:20:00                   08:38:13\n",
       "2020-04-05 04:35:00                   08:23:13\n",
       "2020-04-05 04:50:00                   08:08:13\n",
       "2020-04-05 05:05:00                   07:53:13\n",
       "dtype: timedelta64[ns]"
      ]
     },
     "execution_count": 52,
     "metadata": {},
     "output_type": "execute_result"
    }
   ],
   "source": [
    "(binned_current_log['peak_time'] - binned_current_log.index)[40:80]\n"
   ]
  },
  {
   "cell_type": "code",
   "execution_count": null,
   "metadata": {},
   "outputs": [],
   "source": []
  }
 ],
 "metadata": {
  "kernelspec": {
   "display_name": "Python 3",
   "language": "python",
   "name": "python3"
  },
  "language_info": {
   "codemirror_mode": {
    "name": "ipython",
    "version": 3
   },
   "file_extension": ".py",
   "mimetype": "text/x-python",
   "name": "python",
   "nbconvert_exporter": "python",
   "pygments_lexer": "ipython3",
   "version": "3.8.2"
  }
 },
 "nbformat": 4,
 "nbformat_minor": 4
}
