{
 "cells": [
  {
   "cell_type": "code",
   "execution_count": null,
   "metadata": {},
   "outputs": [],
   "source": [
    "hashtags = \n",
    "\n",
    "#prospectPark\n",
    "#brooklyn\n",
    "#nyc\n",
    "#ny\n",
    "#nycparks\n",
    "#prospect_park\n",
    "#prospectparkzoo\n",
    "#flatbush\n",
    "\n",
    "\n",
    "\n",
    "#hashtags_2 = [ social_distancing, socialdistance]"
   ]
  }
 ],
 "metadata": {
  "kernelspec": {
   "display_name": "ker_tweepy",
   "language": "python",
   "name": "ker_tweepy"
  },
  "language_info": {
   "codemirror_mode": {
    "name": "ipython",
    "version": 3
   },
   "file_extension": ".py",
   "mimetype": "text/x-python",
   "name": "python",
   "nbconvert_exporter": "python",
   "pygments_lexer": "ipython3",
   "version": "3.7.4"
  }
 },
 "nbformat": 4,
 "nbformat_minor": 4
}
