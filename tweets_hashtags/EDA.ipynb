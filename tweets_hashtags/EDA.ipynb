{
 "cells": [
  {
   "cell_type": "markdown",
   "metadata": {},
   "source": [
    "## Setup"
   ]
  },
  {
   "cell_type": "code",
   "execution_count": 2,
   "metadata": {},
   "outputs": [],
   "source": [
    "import pandas as pd\n",
    "import os\n",
    "import glob\n",
    "\n",
    "###### DEBUGGING TOOLS:\n",
    "\n",
    "# Change debug_bool to True/False to turn on/off debug prints\n",
    "debug_bool = True\n",
    "def debug_print(*args):\n",
    "    if debug_bool:\n",
    "        print('debug print:', '\\n', *args, '\\n')"
   ]
  },
  {
   "cell_type": "markdown",
   "metadata": {},
   "source": [
    "## Import csv files\n",
    "\n",
    "Folder 'data' has csv files with tweets from tweepy."
   ]
  },
  {
   "cell_type": "code",
   "execution_count": 43,
   "metadata": {},
   "outputs": [
    {
     "name": "stdout",
     "output_type": "stream",
     "text": [
      "(716, 7)\n"
     ]
    },
    {
     "data": {
      "text/html": [
       "<div>\n",
       "<style scoped>\n",
       "    .dataframe tbody tr th:only-of-type {\n",
       "        vertical-align: middle;\n",
       "    }\n",
       "\n",
       "    .dataframe tbody tr th {\n",
       "        vertical-align: top;\n",
       "    }\n",
       "\n",
       "    .dataframe thead th {\n",
       "        text-align: right;\n",
       "    }\n",
       "</style>\n",
       "<table border=\"1\" class=\"dataframe\">\n",
       "  <thead>\n",
       "    <tr style=\"text-align: right;\">\n",
       "      <th></th>\n",
       "      <th>Tweet</th>\n",
       "      <th>Matched Keywords</th>\n",
       "      <th>Date</th>\n",
       "      <th>User</th>\n",
       "      <th>Source</th>\n",
       "      <th>Tweet ID</th>\n",
       "      <th>Tweet URL</th>\n",
       "    </tr>\n",
       "  </thead>\n",
       "  <tbody>\n",
       "    <tr>\n",
       "      <td>0</td>\n",
       "      <td>That’s pretty af both y’all</td>\n",
       "      <td>NaN</td>\n",
       "      <td>2020-04-08 13:25:42</td>\n",
       "      <td>humanteddybear3</td>\n",
       "      <td>Twitter for iPhone</td>\n",
       "      <td>1247878284395905025</td>\n",
       "      <td>https://twitter.com/statuses/1247878284395905025</td>\n",
       "    </tr>\n",
       "    <tr>\n",
       "      <td>1</td>\n",
       "      <td>Thank you for serving to bring the best possib...</td>\n",
       "      <td>NaN</td>\n",
       "      <td>2020-04-08 13:27:29</td>\n",
       "      <td>BHWilliamsMD</td>\n",
       "      <td>Buffer</td>\n",
       "      <td>1247878733794627584</td>\n",
       "      <td>https://twitter.com/statuses/1247878733794627584</td>\n",
       "    </tr>\n",
       "    <tr>\n",
       "      <td>2</td>\n",
       "      <td>\"With the hat to match\\nRemember Rappin' Duke?...</td>\n",
       "      <td>NaN</td>\n",
       "      <td>2020-04-08 13:39:56</td>\n",
       "      <td>_3thousand_</td>\n",
       "      <td>Twitter for Android</td>\n",
       "      <td>1247881866092265475</td>\n",
       "      <td>https://twitter.com/statuses/1247881866092265475</td>\n",
       "    </tr>\n",
       "    <tr>\n",
       "      <td>3</td>\n",
       "      <td>Univision 41 News Brief: Baja el número de hos...</td>\n",
       "      <td>#brooklyn</td>\n",
       "      <td>2020-04-08 13:41:02</td>\n",
       "      <td>BrooklynScene_b</td>\n",
       "      <td>Brooklyn PLOW</td>\n",
       "      <td>1247882144057159683</td>\n",
       "      <td>https://twitter.com/statuses/1247882144057159683</td>\n",
       "    </tr>\n",
       "    <tr>\n",
       "      <td>4</td>\n",
       "      <td>Join a Virtual Talk on Secret Brooklyn\\nhttps:...</td>\n",
       "      <td>#brooklyn</td>\n",
       "      <td>2020-04-08 13:42:33</td>\n",
       "      <td>BrooklynScene_b</td>\n",
       "      <td>Brooklyn PLOW</td>\n",
       "      <td>1247882525512314882</td>\n",
       "      <td>https://twitter.com/statuses/1247882525512314882</td>\n",
       "    </tr>\n",
       "  </tbody>\n",
       "</table>\n",
       "</div>"
      ],
      "text/plain": [
       "                                               Tweet Matched Keywords  \\\n",
       "0                        That’s pretty af both y’all              NaN   \n",
       "1  Thank you for serving to bring the best possib...              NaN   \n",
       "2  \"With the hat to match\\nRemember Rappin' Duke?...              NaN   \n",
       "3  Univision 41 News Brief: Baja el número de hos...        #brooklyn   \n",
       "4  Join a Virtual Talk on Secret Brooklyn\\nhttps:...        #brooklyn   \n",
       "\n",
       "                  Date             User               Source  \\\n",
       "0  2020-04-08 13:25:42  humanteddybear3   Twitter for iPhone   \n",
       "1  2020-04-08 13:27:29     BHWilliamsMD               Buffer   \n",
       "2  2020-04-08 13:39:56      _3thousand_  Twitter for Android   \n",
       "3  2020-04-08 13:41:02  BrooklynScene_b        Brooklyn PLOW   \n",
       "4  2020-04-08 13:42:33  BrooklynScene_b        Brooklyn PLOW   \n",
       "\n",
       "              Tweet ID                                         Tweet URL  \n",
       "0  1247878284395905025  https://twitter.com/statuses/1247878284395905025  \n",
       "1  1247878733794627584  https://twitter.com/statuses/1247878733794627584  \n",
       "2  1247881866092265475  https://twitter.com/statuses/1247881866092265475  \n",
       "3  1247882144057159683  https://twitter.com/statuses/1247882144057159683  \n",
       "4  1247882525512314882  https://twitter.com/statuses/1247882525512314882  "
      ]
     },
     "execution_count": 43,
     "metadata": {},
     "output_type": "execute_result"
    }
   ],
   "source": [
    "df = pd.concat(map(pd.read_csv, glob.glob('data/*.csv')))\n",
    "\n",
    "print(df.shape)\n",
    "df.head()"
   ]
  },
  {
   "cell_type": "markdown",
   "metadata": {},
   "source": [
    "## Searching for tweets:"
   ]
  },
  {
   "cell_type": "code",
   "execution_count": 47,
   "metadata": {},
   "outputs": [
    {
     "name": "stdout",
     "output_type": "stream",
     "text": [
      "Found 12 tweets related to the crowding level in Prospect Park: \n",
      "\n",
      "Tweet at time 2020-04-06 16:40:33 : Bike riding  with all the necessary safety apparel & proper distancing. #sunshine #brooklyn https://t.co/rlyQHqfId0 \n",
      "\n",
      "Tweet at time 2020-04-06 21:20:44 : Brooklynites call for social distancing guidelines for essential stores\n",
      "https://t.co/ZtgvIl4yw2\n",
      "+1 IHeartNYCBot #brooklyn \n",
      "\n",
      "Tweet at time 2020-04-06 21:33:56 : Wish there was a way to report those who aren't social distancing. Seen a lot online and out my window to know the dude saying \"ayooooooo\" is not an essential worker 😂😂😂 311 isn't going to help, sites like Insta, fb & Snap should snitch them out. #SocialDistancing #brooklyn \n",
      "\n",
      "Tweet at time 2020-04-06 21:35:59 : Wish there was a way to report those who aren't social distancing. Seen a lot online and out my window to know the dude saying \"ayooooooo\" is not an essential worker 😂😂😂 311 isn't going to help, sites like Insta, fb & Snap should snitch them out. #SocialDistancing #brooklyn https://t.co/OOgMxn1etx \n",
      "\n",
      "Tweet at time 2020-04-07 04:19:00 : the Hasidic communities of New York City not exactly doing the whole social distancing thing. Over 40 rabbis have died, but each one needs a traditional proper send-off, hence making it riskier for yet more to die. Vicious cycle. \n",
      "\n",
      "Tweet at time 2020-04-07 12:01:52 : Damn. I’ve seen nothing, but social distancing here in #Brooklyn. \n",
      "\n",
      "New York remains on pause as officials warn of projected toughest weeks yet\n",
      "https://t.co/1wVM1pOJLX \n",
      "\n",
      "Tweet at time 2020-04-08 17:41:32 : Fallon, Sandler sing about new social distancing rules in 'Don't Touch Grandma'\n",
      "https://t.co/9e8TmBQmvZ\n",
      "+1 IHeartNYCBot #brooklyn \n",
      "\n",
      "Tweet at time 2020-04-05 17:49:28 : VIDEO: #Brooklyn couple finds love amidst social distancing, story going viral!! A MUST-WATCH! #SocialDistancingNow \n",
      "https://t.co/52Dq625QvR \n",
      "\n",
      "Tweet at time 2020-04-05 19:05:02 : Cuomo promotes social distancing in New York and advises people to stay home. Meanwhile leftists don't want to miss the opportunity to protest and leave this👇 in Prospect Park in Brooklyn.\n",
      "#Brooklyn\n",
      "#NYC https://t.co/hf55Saxubt \n",
      "\n",
      "Tweet at time 2020-04-05 23:45:47 : What is wrong with people! Police break up funeral for #Brooklyn rabbi who died from coronavirus after dozens gathered in violation of social distancing m just days after crowds packed the streets for another rabbi's procession\n",
      "via https://t.co/xgNTRUmIbQ https://t.co/lcuFEftFli \n",
      "\n",
      "Tweet at time 2020-04-04 14:40:51 : Why aren’t people social distancing in New York? \n",
      "\n",
      "Tweet at time 2020-04-04 20:25:38 : People waiting for and drinking \"to go\" drinks at the bar in my building in #brooklyn. This is NOT social distancing. This is congregating in groups and blocking the sidewalk. Thousands more will die because you need to drink a $15 cocktail on the sidewalk. #FlattenTheCurve https://t.co/CpZOje4lwz \n",
      "\n"
     ]
    }
   ],
   "source": [
    "import re\n",
    "distancing = []\n",
    "d_loc = []\n",
    "\n",
    "for i in range(0,len(df)):\n",
    "    if re.match('.*(distancing)|(social)|(distance)|(crowd)|(crowds)|(crowded)|(busy)|(full)|(too many)|(many)|(packed)|(close)|(groups)|(safe)|(empty)|(quarantine).*',df.iloc[i].Tweet):\n",
    "        distancing.append(1)\n",
    "        d_loc.append(i)\n",
    "        \n",
    "        \n",
    "print(\"Found\",len(distancing),\"tweets related to the crowding level in Prospect Park: \\n\")\n",
    "for i in range(len(d_loc)):\n",
    "    print('Tweet at time', df.iloc[d_loc[i]].Date, \":\", df.iloc[d_loc[i]].Tweet, \"\\n\")\n"
   ]
  },
  {
   "cell_type": "markdown",
   "metadata": {},
   "source": [
    "Tweets about prospect park:"
   ]
  },
  {
   "cell_type": "code",
   "execution_count": 45,
   "metadata": {},
   "outputs": [
    {
     "name": "stdout",
     "output_type": "stream",
     "text": [
      "Found 4 tweets related to the crowding level in Prospect Park: \n",
      "\n",
      "Tweet at time 2020-04-07 02:17:59 : De Blasio gets testy over his Prospect Park jaunts during coronavirus\n",
      "https://t.co/Vp131lIfyS\n",
      "+1 IHeartNYCBot #brooklyn \n",
      "\n",
      "Tweet at time 2020-04-08 17:53:48 : Two Laughing Gulls on the Prospect Park Lake \n",
      "\n",
      "Tweet at time 2020-04-05 19:05:02 : Cuomo promotes social distancing in New York and advises people to stay home. Meanwhile leftists don't want to miss the opportunity to protest and leave this👇 in Prospect Park in Brooklyn.\n",
      "#Brooklyn\n",
      "#NYC https://t.co/hf55Saxubt \n",
      "\n",
      "Tweet at time 2020-04-04 20:26:40 : Prospect Park is packed. Unreal. \n",
      "\n"
     ]
    }
   ],
   "source": [
    "distancing = []\n",
    "d_loc = []\n",
    "\n",
    "for i in range(0,len(df)):\n",
    "    if re.match('.*(Prospect Park).*',df.iloc[i].Tweet):\n",
    "        distancing.append(1)\n",
    "        d_loc.append(i)\n",
    "        \n",
    "        \n",
    "print(\"Found\",len(distancing),\"tweets related to the crowding level in Prospect Park: \\n\")\n",
    "for i in range(len(d_loc)):\n",
    "    print('Tweet at time', df.iloc[d_loc[i]].Date, \":\", df.iloc[d_loc[i]].Tweet, \"\\n\")\n"
   ]
  }
 ],
 "metadata": {
  "kernelspec": {
   "display_name": "Python 3",
   "language": "python",
   "name": "python3"
  },
  "language_info": {
   "codemirror_mode": {
    "name": "ipython",
    "version": 3
   },
   "file_extension": ".py",
   "mimetype": "text/x-python",
   "name": "python",
   "nbconvert_exporter": "python",
   "pygments_lexer": "ipython3",
   "version": "3.7.4"
  }
 },
 "nbformat": 4,
 "nbformat_minor": 4
}
